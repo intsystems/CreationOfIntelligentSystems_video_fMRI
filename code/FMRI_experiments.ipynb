{
  "nbformat": 4,
  "nbformat_minor": 0,
  "metadata": {
    "colab": {
      "provenance": []
    },
    "kernelspec": {
      "name": "python3",
      "display_name": "Python 3"
    },
    "language_info": {
      "name": "python"
    }
  },
  "cells": [
    {
      "cell_type": "markdown",
      "source": [
        "## Датасеты"
      ],
      "metadata": {
        "id": "W3R8lPEJVPTd"
      }
    },
    {
      "cell_type": "code",
      "source": [
        "!pip install awscli"
      ],
      "metadata": {
        "id": "3C2gSpPpm25n",
        "colab": {
          "base_uri": "https://localhost:8080/"
        },
        "outputId": "5dab7f02-a8e8-466c-eeb0-b3a07d9dd76c"
      },
      "execution_count": null,
      "outputs": [
        {
          "output_type": "stream",
          "name": "stdout",
          "text": [
            "Looking in indexes: https://pypi.org/simple, https://us-python.pkg.dev/colab-wheels/public/simple/\n",
            "Requirement already satisfied: awscli in /usr/local/lib/python3.7/dist-packages (1.27.13)\n",
            "Requirement already satisfied: s3transfer<0.7.0,>=0.6.0 in /usr/local/lib/python3.7/dist-packages (from awscli) (0.6.0)\n",
            "Requirement already satisfied: docutils<0.17,>=0.10 in /usr/local/lib/python3.7/dist-packages (from awscli) (0.16)\n",
            "Requirement already satisfied: colorama<0.4.5,>=0.2.5 in /usr/local/lib/python3.7/dist-packages (from awscli) (0.4.4)\n",
            "Requirement already satisfied: rsa<4.8,>=3.1.2 in /usr/local/lib/python3.7/dist-packages (from awscli) (4.7.2)\n",
            "Requirement already satisfied: PyYAML<5.5,>=3.10 in /usr/local/lib/python3.7/dist-packages (from awscli) (5.4.1)\n",
            "Requirement already satisfied: botocore==1.29.13 in /usr/local/lib/python3.7/dist-packages (from awscli) (1.29.13)\n",
            "Requirement already satisfied: urllib3<1.27,>=1.25.4 in /usr/local/lib/python3.7/dist-packages (from botocore==1.29.13->awscli) (1.26.12)\n",
            "Requirement already satisfied: jmespath<2.0.0,>=0.7.1 in /usr/local/lib/python3.7/dist-packages (from botocore==1.29.13->awscli) (1.0.1)\n",
            "Requirement already satisfied: python-dateutil<3.0.0,>=2.1 in /usr/local/lib/python3.7/dist-packages (from botocore==1.29.13->awscli) (2.8.2)\n",
            "Requirement already satisfied: six>=1.5 in /usr/local/lib/python3.7/dist-packages (from python-dateutil<3.0.0,>=2.1->botocore==1.29.13->awscli) (1.15.0)\n",
            "Requirement already satisfied: pyasn1>=0.1.3 in /usr/local/lib/python3.7/dist-packages (from rsa<4.8,>=3.1.2->awscli) (0.4.8)\n"
          ]
        }
      ]
    },
    {
      "cell_type": "markdown",
      "source": [
        "### Скачивание датасета из исходной статьи"
      ],
      "metadata": {
        "id": "mMD5lb4kBrB_"
      }
    },
    {
      "cell_type": "code",
      "source": [
        "!aws s3 sync --no-sign-request s3://openneuro.org/ds003688 ds003688-download/"
      ],
      "metadata": {
        "id": "sZ9QQVL3TwW8"
      },
      "execution_count": null,
      "outputs": []
    },
    {
      "cell_type": "code",
      "source": [
        "import os\n",
        "import nibabel as nib\n",
        "from torch.utils.data import Dataset, DataLoader\n",
        "import torch\n",
        "import cv2\n",
        "import numpy as np\n",
        "from torchvision.transforms import ToTensor"
      ],
      "metadata": {
        "id": "Qx8zResbO92u",
        "colab": {
          "base_uri": "https://localhost:8080/"
        },
        "outputId": "1f9fa1e2-f870-45bd-ebf8-198df158fb92"
      },
      "execution_count": null,
      "outputs": [
        {
          "output_type": "stream",
          "name": "stderr",
          "text": [
            "/usr/local/lib/python3.7/dist-packages/requests/__init__.py:91: RequestsDependencyWarning: urllib3 (1.26.12) or chardet (3.0.4) doesn't match a supported version!\n",
            "  RequestsDependencyWarning)\n"
          ]
        }
      ]
    },
    {
      "cell_type": "code",
      "source": [
        "cap = cv2.VideoCapture('Film stimulus.mp4') #from stimulus.rar\n",
        "frames = []\n",
        "to_tensor = ToTensor()\n",
        "while(cap.isOpened()):\n",
        "  # Capture frame-by-frame\n",
        "  ret, frame = cap.read()\n",
        "  if ret:# and len(frames) < 16*8:\n",
        "    frame = cv2.resize(frame, (224,224),fx=0,fy=0, interpolation=cv2.INTER_CUBIC)\n",
        "    frames.append(to_tensor(frame))\n",
        "  else:\n",
        "    break\n",
        "\n",
        "# When everything done, release the video capture object\n",
        "cap.release()"
      ],
      "metadata": {
        "id": "Cd7mts0XUSyt"
      },
      "execution_count": null,
      "outputs": []
    },
    {
      "cell_type": "code",
      "source": [
        "class fMRIVideoDataset(Dataset):\n",
        "  def __init__(self, mode='train', duration=2, skip_frames=1):\n",
        "    self.duration = duration\n",
        "    self.skip_frames = skip_frames\n",
        "    #num fmri in one sample = 5*duration\n",
        "    #num frames in one sample = 76*duration // skip_frames\n",
        "    self.to_tensor = ToTensor()\n",
        "\n",
        "    if mode == 'train':\n",
        "      self.records = ['53', '41', '14', '16', '31', '08', '52', '22', '56', '43', '24', '15', '60', '13', '55', '45', '44', '07', '09', '46', '27']\n",
        "      self.start_times = torch.arange(0, 641 - 10*duration, 5)\n",
        "    elif mode == 'test':\n",
        "      self.records = ['62', '29', '47', '18', '04', '51', '35', '11', '28']\n",
        "      self.start_times = [641 - 5*duration]\n",
        "    else:\n",
        "      self.records = ['04', '07', '08', '09', '11', '13', '14', '15', '16', '18', '22', '24', '27', '28', '29', '31', '35', '41', '43', '44', '45', '46', '47', '51', '52', '53', '55', '56', '60', '62']\n",
        "      self.start_times = torch.arange(0, 641 - duration * 5, 5)\n",
        "     \n",
        "  def __len__(self):\n",
        "    return len(self.records) * len(self.start_times)\n",
        "\n",
        "  def __getitem__(self, idx):\n",
        "    idx_record = idx // len(self.start_times)\n",
        "    idx_time = idx - idx_record\n",
        "    start_time = self.start_times[idx_time] * 5\n",
        "    start_frame = self.start_times[idx_time] * 76\n",
        "    end_frame = start_frame + self.duration * 76\n",
        "    #video = torch.Tensor(frames[start_frame:end_frame:self.skip_frames])\n",
        "    video = frames[start_frame:end_frame:self.skip_frames]\n",
        "    #video = video.permute(0, 3, 1, 2)\n",
        "    position_idx = torch.arange(0, end_frame - start_frame, self.skip_frames)\n",
        "\n",
        "    dir = 'ds003688-download/sub-{}/ses-mri3t/func'.format(self.records[idx_record])\n",
        "    files = os.listdir(dir)\n",
        "    for file in files:\n",
        "      if file[-2:] == 'gz':\n",
        "        nii_img  = nib.load(dir + '/' + file)\n",
        "        nii_data = nii_img.get_fdata() #(40, 64, 64, 641)\n",
        "        fmri = torch.Tensor(nii_data[:, :, :, start_time:start_time + self.duration * 5])\n",
        "        fmri = fmri.permute(3, 0, 1, 2)\n",
        "        return fmri, video, position_idx"
      ],
      "metadata": {
        "id": "ZazBfFHFPEYa"
      },
      "execution_count": null,
      "outputs": []
    },
    {
      "cell_type": "code",
      "source": [
        "#example\n",
        "dataset = fMRIVideoDataset(skip_frames=2)\n",
        "fmri, video, position_idx = dataset[0]\n",
        "fmri.shape, video.shape"
      ],
      "metadata": {
        "id": "Wwq1KECePHyv"
      },
      "execution_count": null,
      "outputs": []
    },
    {
      "cell_type": "markdown",
      "source": [
        "### ещё один датасет (UCLA, использовался для обучения в статье TFF, там он назван CNP)"
      ],
      "metadata": {
        "id": "Y175P5leU-8m"
      }
    },
    {
      "cell_type": "code",
      "source": [
        "!aws s3 sync --no-sign-request s3://openneuro.org/ds000030 ds000030-download/"
      ],
      "metadata": {
        "id": "m_1XshdRVKdC"
      },
      "execution_count": null,
      "outputs": []
    },
    {
      "cell_type": "markdown",
      "source": [
        "Такс, ниже код предобработки сырого FMRI в voxel и global normalization представление.\n",
        "\n",
        "Надо через нгео прогнать тензоры FMRI датасета из исходной статьи"
      ],
      "metadata": {
        "id": "vzvEHFbMTJhv"
      }
    },
    {
      "cell_type": "code",
      "source": [
        "import os\n",
        "import numpy as np\n",
        "import nibabel as nib\n",
        "import torch\n",
        "from multiprocessing import Process, Queue\n",
        "\n",
        "def preprocess(file_path, global_path, voxel_path): # nii.gz file\n",
        "    \"\"\"\n",
        "        read nii.gz file from file_path\n",
        "        save global and voxel norm to global_path, voxel_path\n",
        "    \"\"\"\n",
        "    print(np.asanyarray(nib.load(file_path).dataobj).shape)\n",
        "    img_orig = torch.from_numpy(np.asanyarray(nib.load(file_path).dataobj)[8:-8, 8:-8, :-10]).to(dtype=torch.float32)\n",
        "    img_orig = img_orig.unsqueeze(-1) # add time dimension [W, H, D, T]\n",
        "    background = img_orig == 0\n",
        "    img_temp = (img_orig - img_orig[~background].mean()) / (img_orig[~background].std())\n",
        "    img = torch.empty(img_orig.shape)\n",
        "    img[background] = img_temp.min()\n",
        "    img[~background] = img_temp[~background]\n",
        "    img = torch.split(img, 1, 3)\n",
        "    for i, TR in enumerate(img):\n",
        "        torch.save(TR.clone(), os.path.join(global_path, 'globalr_fMRI_TR_' + str(i) + '.pt'))\n",
        "    # repeat for per voxel normalization\n",
        "    img_temp = (img_orig - img_orig.mean(dim=3, keepdims=True)) / (img_orig.std(dim=3, keepdims=True))\n",
        "    img = torch.empty(img_orig.shape)\n",
        "    img[background] = img_temp.min()\n",
        "    img[~background] = img_temp[~background]\n",
        "    img = torch.split(img, 1, 3)\n",
        "    for i, TR in enumerate(img):\n",
        "        torch.save(TR.clone(), os.path.join(voxel_path, 'voxel_rfMRI_TR_' + str(i) + '.pt'))\n",
        "    print('finished another subject')\n",
        "\n",
        "\n",
        "\"\"\"\n",
        "ds_name = 'ds000030-download'\n",
        "for subname in os.listdir(ds_name):\n",
        "    if subname.startswith('sub'):\n",
        "        folder = os.path.join(ds_name, subname, 'anat')\n",
        "        if os.path.exists(folder):\n",
        "            for scan in os.listdir(folder):\n",
        "                if scan.endswith('nii.gz'):\n",
        "                    file_path = os.path.join(folder, scan)\n",
        "                    print(file_path)\n",
        "                    preprocess(file_path, folder, folder)\n",
        "\"\"\"\n",
        "\n",
        "def preprocess_fmri(img_orig, global_path='', voxel_path=''):\n",
        "    \"\"\"\n",
        "        save global and voxel norm to global_path, voxel_path\n",
        "    \"\"\"\n",
        "    # img_orig = fmri_tensor.to(dtype=torch.float32).unsqueeze(-1) # add time dimension [W, H, D, T]\n",
        "    background = img_orig == 0\n",
        "    img_temp = (img_orig - img_orig[~background].mean()) / (img_orig[~background].std())\n",
        "    img = torch.empty(img_orig.shape)\n",
        "    img[background] = img_temp.min()\n",
        "    img[~background] = img_temp[~background]\n",
        "    img_global = img.detach().clone()\n",
        "    img = torch.split(img, 1, 3)\n",
        "    for i, TR in enumerate(img):\n",
        "        print('global saving', i)\n",
        "        torch.save(TR.clone(), os.path.join(global_path, 'global_fMRI_TR_' + str(i) + '.pt'))\n",
        "    # repeat for per voxel normalization\n",
        "    img_temp = (img_orig - img_orig.mean(dim=3, keepdims=True)) / (img_orig.std(dim=3, keepdims=True))\n",
        "    img = torch.empty(img_orig.shape)\n",
        "    img[background] = img_temp.min()\n",
        "    img[~background] = img_temp[~background]\n",
        "    img_voxel = img.detach().clone()\n",
        "    img = torch.split(img, 1, 3)\n",
        "    for i, TR in enumerate(img):\n",
        "        print('voxel saving', i)\n",
        "        torch.save(TR.clone(), os.path.join(voxel_path, 'voxel_rfMRI_TR_' + str(i) + '.pt'))\n",
        "    print('finished another subject')\n",
        "    return img_global, img_voxel\n",
        "\n",
        "fmri_tensor = dataset[1][0].permute(1, 2, 3, 0) # [T, W, H, D]\n",
        "print(fmri_tensor.shape)\n",
        "g, v = preprocess_fmri(fmri_tensor, '', '')\n",
        "g.shape, v.shape"
      ],
      "metadata": {
        "colab": {
          "base_uri": "https://localhost:8080/"
        },
        "id": "NBCqyDgxnBY8",
        "outputId": "f26f2102-8bba-44db-e5cb-648bad9ee747"
      },
      "execution_count": null,
      "outputs": [
        {
          "output_type": "stream",
          "name": "stdout",
          "text": [
            "torch.Size([40, 64, 64, 10])\n",
            "global saving 0\n",
            "global saving 1\n",
            "global saving 2\n",
            "global saving 3\n",
            "global saving 4\n",
            "global saving 5\n",
            "global saving 6\n",
            "global saving 7\n",
            "global saving 8\n",
            "global saving 9\n",
            "voxel saving 0\n",
            "voxel saving 1\n",
            "voxel saving 2\n",
            "voxel saving 3\n",
            "voxel saving 4\n",
            "voxel saving 5\n",
            "voxel saving 6\n",
            "voxel saving 7\n",
            "voxel saving 8\n",
            "voxel saving 9\n",
            "finished another subject\n"
          ]
        },
        {
          "output_type": "execute_result",
          "data": {
            "text/plain": [
              "(torch.Size([40, 64, 64, 10]), torch.Size([40, 64, 64, 10]))"
            ]
          },
          "metadata": {},
          "execution_count": 87
        }
      ]
    },
    {
      "cell_type": "code",
      "source": [
        "torch.stack([g, v]).shape"
      ],
      "metadata": {
        "colab": {
          "base_uri": "https://localhost:8080/"
        },
        "id": "0JQK6HaRwPjD",
        "outputId": "c74a6816-dd2e-46d6-95ea-11383dc32e5c"
      },
      "execution_count": null,
      "outputs": [
        {
          "output_type": "execute_result",
          "data": {
            "text/plain": [
              "torch.Size([2, 40, 64, 64, 10])"
            ]
          },
          "metadata": {},
          "execution_count": 83
        }
      ]
    },
    {
      "cell_type": "code",
      "source": [
        "fmri_tensor.mean(), fmri_tensor.max(), fmri_tensor.min()"
      ],
      "metadata": {
        "colab": {
          "base_uri": "https://localhost:8080/"
        },
        "id": "9zNgzSg5wr7e",
        "outputId": "cddc7dac-a2be-434e-f259-292fcd222cce"
      },
      "execution_count": null,
      "outputs": [
        {
          "output_type": "execute_result",
          "data": {
            "text/plain": [
              "(tensor(198.5554), tensor(2270.2026), tensor(0.))"
            ]
          },
          "metadata": {},
          "execution_count": 92
        }
      ]
    },
    {
      "cell_type": "code",
      "source": [
        "\n",
        "# preprocessing\n",
        "\n",
        "import os\n",
        "import numpy as np\n",
        "import nibabel as nib\n",
        "import torch\n",
        "from multiprocessing import Process, Queue\n",
        "\n",
        "\n",
        "def read_hcp(file_path, global_norm_path, per_voxel_norm_path, hand, count, queue=None):\n",
        "    img_orig = torch.from_numpy(np.asanyarray(nib.load(file_path).dataobj)[8:-8, 8:-8, :-10, 10:]).to(dtype=torch.float32)\n",
        "    background = img_orig == 0\n",
        "    img_temp = (img_orig - img_orig[~background].mean()) / (img_orig[~background].std())\n",
        "    img = torch.empty(img_orig.shape)\n",
        "    img[background] = img_temp.min()\n",
        "    img[~background] = img_temp[~background]\n",
        "    img = torch.split(img, 1, 3)\n",
        "    for i, TR in enumerate(img):\n",
        "        torch.save(TR.clone(),\n",
        "                   os.path.join(global_norm_path, 'rfMRI_' + hand + '_TR_' + str(i) + '.pt'))\n",
        "    # repeat for per voxel normalization\n",
        "    img_temp = (img_orig - img_orig.mean(dim=3, keepdims=True)) / (img_orig.std(dim=3, keepdims=True))\n",
        "    img = torch.empty(img_orig.shape)\n",
        "    img[background] = img_temp.min()\n",
        "    img[~background] = img_temp[~background]\n",
        "    img = torch.split(img, 1, 3)\n",
        "    for i, TR in enumerate(img):\n",
        "        torch.save(TR.clone(),\n",
        "                   os.path.join(per_voxel_norm_path, 'rfMRI_' + hand + '_TR_' + str(i) + '.pt'))\n",
        "    print('finished another subject. count is now {}'.format(count))\n",
        "\n",
        "def main():\n",
        "    hcp_path = r'D:\\users\\Gony\\HCP-1200'\n",
        "    all_files_path = os.path.join(hcp_path,'extract_S1200_data')\n",
        "    queue = Queue()\n",
        "    count = 0\n",
        "    for subj in os.listdir(all_files_path):\n",
        "        subj_path = os.path.join(all_files_path,subj)\n",
        "        try:\n",
        "            file_path = os.path.join(subj_path,os.listdir(subj_path)[0])\n",
        "            hand = file_path[file_path.find('REST1_')+6:file_path.find('.nii')]\n",
        "            global_norm_path = os.path.join(hcp_path,'MNI_to_TRs',subj,'global_normalize')\n",
        "            per_vox_norm_path = os.path.join(hcp_path, 'MNI_to_TRs', subj, 'per_voxel_normalize')\n",
        "            os.makedirs(global_norm_path, exist_ok=True)\n",
        "            os.makedirs(per_vox_norm_path, exist_ok=True)\n",
        "            count += 1\n",
        "            print('start working on subject '+ subj)\n",
        "            p = Process(target=read_hcp, args=(file_path,global_norm_path,per_vox_norm_path,hand,count, queue))\n",
        "            p.start()\n",
        "            if count % 20 == 0:\n",
        "                p.join()  # this blocks until the process terminates\n",
        "        except Exception:\n",
        "            print('encountered problem with '+subj)\n",
        "            print(Exception)\n",
        "if __name__ == '__main__':\n",
        "    main()"
      ],
      "metadata": {
        "id": "qp0FrSILq28S"
      },
      "execution_count": null,
      "outputs": []
    },
    {
      "cell_type": "markdown",
      "source": [],
      "metadata": {
        "id": "q3uIMxx6TDyD"
      }
    },
    {
      "cell_type": "markdown",
      "source": [
        "## репозиторий из статьи TFF"
      ],
      "metadata": {
        "id": "ZgX9psWGlBHQ"
      }
    },
    {
      "cell_type": "code",
      "source": [],
      "metadata": {
        "id": "s9q7Y2mvwz6O"
      },
      "execution_count": null,
      "outputs": []
    },
    {
      "cell_type": "code",
      "source": [
        "!git clone https://github.com/GonyRosenman/TFF"
      ],
      "metadata": {
        "colab": {
          "base_uri": "https://localhost:8080/"
        },
        "id": "3BlPMy2kLgwj",
        "outputId": "6a336790-4a5e-4ac1-f06b-b3860a6ba6f1"
      },
      "execution_count": null,
      "outputs": [
        {
          "output_type": "stream",
          "name": "stdout",
          "text": [
            "Cloning into 'TFF'...\n",
            "remote: Enumerating objects: 135, done.\u001b[K\n",
            "remote: Counting objects: 100% (118/118), done.\u001b[K\n",
            "remote: Compressing objects: 100% (84/84), done.\u001b[K\n",
            "remote: Total 135 (delta 62), reused 86 (delta 34), pack-reused 17\u001b[K\n",
            "Receiving objects: 100% (135/135), 687.96 KiB | 10.42 MiB/s, done.\n",
            "Resolving deltas: 100% (62/62), done.\n"
          ]
        }
      ]
    },
    {
      "cell_type": "code",
      "source": [
        "%cd TFF"
      ],
      "metadata": {
        "colab": {
          "base_uri": "https://localhost:8080/"
        },
        "id": "DCYNYX4hLmMk",
        "outputId": "3bb2b2d1-fedc-42c3-db73-d7da953dc577"
      },
      "execution_count": null,
      "outputs": [
        {
          "output_type": "stream",
          "name": "stdout",
          "text": [
            "/content/TFF\n"
          ]
        }
      ]
    },
    {
      "cell_type": "code",
      "source": [
        "!ls"
      ],
      "metadata": {
        "colab": {
          "base_uri": "https://localhost:8080/"
        },
        "id": "TZyxKgVqlGGQ",
        "outputId": "a342b04f-9605-4efc-a250-ea0265e21e92"
      },
      "execution_count": null,
      "outputs": [
        {
          "output_type": "stream",
          "name": "stdout",
          "text": [
            "augmentations.py\t  losses.py\t  model.py\t    test.py\n",
            "data\t\t\t  loss_writer.py  nvidia_blocks.py  trainer.py\n",
            "data_preprocess_and_load  main.py\t  readme.md\t    utils.py\n",
            "learning_rate.py\t  metrics.py\t  requirements.txt\n"
          ]
        }
      ]
    },
    {
      "cell_type": "code",
      "source": [
        "!pip install transformers"
      ],
      "metadata": {
        "id": "M1a28_hkL3kk"
      },
      "execution_count": null,
      "outputs": []
    },
    {
      "cell_type": "code",
      "source": [
        "!python main.py --dataset_name S1200 --fine_tune_task binary_classification"
      ],
      "metadata": {
        "colab": {
          "base_uri": "https://localhost:8080/"
        },
        "id": "wjamtyUtLx-S",
        "outputId": "83845dbc-e792-45b9-e730-7bd4362abbfa"
      },
      "execution_count": null,
      "outputs": [
        {
          "output_type": "stream",
          "name": "stdout",
          "text": [
            "starting phase 1...\n",
            "Traceback (most recent call last):\n",
            "  File \"main.py\", line 134, in <module>\n",
            "    main(base_path)\n",
            "  File \"main.py\", line 116, in main\n",
            "    model_weights_path_phase1 = run_phase(args,None,'1','autoencoder_reconstruction')\n",
            "  File \"main.py\", line 96, in run_phase\n",
            "    trainer = Trainer(sets=S,**args)\n",
            "  File \"/content/TFF/trainer.py\", line 18, in __init__\n",
            "    self.train_loader, self.val_loader, _ = DataHandler(**kwargs).create_dataloaders()\n",
            "  File \"/content/TFF/data_preprocess_and_load/dataloaders.py\", line 30, in create_dataloaders\n",
            "    train_loader = dataset(**self.kwargs)\n",
            "  File \"/content/TFF/data_preprocess_and_load/datasets.py\", line 69, in __init__\n",
            "    self.subject_names = os.listdir(self.data_dir)\n",
            "FileNotFoundError: [Errno 2] No such file or directory: 'D:\\\\users\\\\Gony\\\\HCP-1200/MNI_to_TRs'\n"
          ]
        }
      ]
    },
    {
      "cell_type": "markdown",
      "source": [
        "### Тут я просто вставляю код из статьи TFF"
      ],
      "metadata": {
        "id": "cIMGTeMJXVfb"
      }
    },
    {
      "cell_type": "code",
      "source": [
        "# datasets.py\n",
        "\n",
        "import os\n",
        "import torch\n",
        "from torch.utils.data import Dataset\n",
        "import augmentations\n",
        "import pandas as pd\n",
        "from pathlib import Path\n",
        "\n",
        "\n",
        "class BaseDataset(Dataset):\n",
        "    def __init__(self):\n",
        "        super().__init__()\n",
        "    def register_args(self, **kwargs):\n",
        "        #todo:decide if keep immedieate load or not\n",
        "        self.device = None #torch.device('cuda') if kwargs.get('cuda') else torch.device('cpu')\n",
        "        self.index_l = []\n",
        "        self.norm = 'global_normalize'\n",
        "        self.complementary = 'per_voxel_normalize'\n",
        "        self.random_TR = kwargs.get('random_TR')\n",
        "        # self.set_augmentations(**kwargs)\n",
        "        self.stride_factor = 1\n",
        "        self.sequence_stride = 1\n",
        "        self.sequence_length = kwargs.get('sequence_length')\n",
        "        self.sample_duration = self.sequence_length * self.sequence_stride\n",
        "        self.stride = max(round(self.stride_factor * self.sample_duration),1)\n",
        "        self.TR_skips = range(0, self.sample_duration, self.sequence_stride)\n",
        "\n",
        "    def get_input_shape(self):\n",
        "        shape = torch.load(os.path.join(self.index_l[0][2],self.index_l[0][3] + '.pt')).squeeze().shape\n",
        "        return shape\n",
        "\n",
        "    def set_augmentations(self,**kwargs):\n",
        "        if kwargs.get('augment_prob') > 0:\n",
        "            self.augment = augmentations.brain_gaussian(**kwargs)\n",
        "        else:\n",
        "            self.augment = None\n",
        "\n",
        "    def TR_string(self, filename_TR, x):\n",
        "        # all datasets should have the TR mentioned in the format of 'some prefix _ number.pt'\n",
        "        TR_num = [xx for xx in filename_TR.split('_') if xx.isdigit()][0]\n",
        "        assert len(filename_TR.split('_')) == 2\n",
        "        filename = filename_TR.replace(TR_num,str(int(TR_num) + x)) + '.pt'\n",
        "        return filename\n",
        "\n",
        "    def determine_TR(self, TRs_path, TR):\n",
        "        if self.random_TR:\n",
        "            possible_TRs = len(os.listdir(TRs_path)) - self.sample_duration\n",
        "            TR = 'TR_' + str(torch.randint(0,possible_TRs,(1,)).item())\n",
        "        return TR\n",
        "\n",
        "    def load_sequence(self, TRs_path, TR):\n",
        "        \"\"\"\n",
        "        the logic of this function is that always\n",
        "        the first channel corresponds to global norm\n",
        "        and if there is a second channel it belongs to per voxel.\n",
        "        \"\"\"\n",
        "        TR = self.determine_TR(TRs_path, TR)\n",
        "        y = torch.cat([torch.load(os.path.join(TRs_path, self.TR_string(TR, x)), map_location=self.device).unsqueeze(0)\n",
        "                        for x in self.TR_skips], dim=4)\n",
        "        if self.complementary is not None:\n",
        "            y1 = torch.cat([torch.load(os.path.join(TRs_path, self.TR_string(TR, x)).replace(self.norm, self.complementary),\n",
        "                            map_location=self.device).unsqueeze(0)\n",
        "                            for x in self.TR_skips], dim=4)\n",
        "            y1[y1 != y1] = 0\n",
        "            y = torch.cat([y, y1], dim=0)\n",
        "            del y1\n",
        "        return y\n",
        "\n",
        "class rest_1200_3D(BaseDataset):\n",
        "    def __init__(self, **kwargs):\n",
        "        self.register_args(**kwargs)\n",
        "        # self.root = r'D:\\users\\Gony\\HCP-1200'\n",
        "        self.root = ''\n",
        "        self.meta_data = pd.read_csv(os.path.join(kwargs.get('base_path'),'data','metadata','HCP_1200_gender.csv'))\n",
        "        self.meta_data_residual = pd.read_csv(os.path.join(kwargs.get('base_path'),'data','metadata','HCP_1200_precise_age.csv'))\n",
        "        self.data_dir = os.path.join(self.root, 'MNI_to_TRs')\n",
        "        self.subject_names = os.listdir(self.data_dir)\n",
        "        self.label_dict = {'F': torch.tensor([0.0]), 'M': torch.tensor([1.0]), '22-25': torch.tensor([1.0, 0.0]),\n",
        "                           '26-30': torch.tensor([1.0, 0.0]),\n",
        "                           '31-35': torch.tensor([0.0, 1.0]), '36+': torch.tensor([0.0, 1.0])}  # torch.tensor([1])}\n",
        "        self.subject_folders = []\n",
        "        for i, subject in enumerate(os.listdir(self.data_dir)):\n",
        "            try:\n",
        "                age = torch.tensor(self.meta_data_residual[self.meta_data_residual['subject']==int(subject)]['age'].values[0])\n",
        "            except Exception:\n",
        "                #deal with discrepency that a few subjects don't have exact age, so we take the mean of the age range as the exact age proxy\n",
        "                age = self.meta_data[self.meta_data['Subject'] == int(subject)]['Age'].values[0]\n",
        "                age = torch.tensor([float(x) for x in age.replace('+','-').split('-')]).mean()\n",
        "            gender = self.meta_data[self.meta_data['Subject']==int(subject)]['Gender'].values[0]\n",
        "            path_to_TRs = os.path.join(self.data_dir,subject,self.norm)\n",
        "            subject_duration = len(os.listdir(path_to_TRs))#121\n",
        "            session_duration = subject_duration - self.sample_duration\n",
        "            filename = os.listdir(path_to_TRs)[0]\n",
        "            filename = filename[:filename.find('TR')+3]\n",
        "\n",
        "            for k in range(0,session_duration,self.stride):\n",
        "                self.index_l.append((i, subject, path_to_TRs,filename + str(k),session_duration, age , gender))\n",
        "\n",
        "    def __len__(self):\n",
        "        N = len(self.index_l)\n",
        "        return N\n",
        "\n",
        "    def __getitem__(self, index):\n",
        "        subj, subj_name, path_to_TRs, TR, session_duration, age, gender = self.index_l[index]\n",
        "        age = self.label_dict[age] if isinstance(age,str) else age.float()\n",
        "        y = self.load_sequence(path_to_TRs, TR)\n",
        "        if self.augment is not None:\n",
        "            y = self.augment(y)\n",
        "        return {\n",
        "            'fmri_sequence': y,\n",
        "            'subject': subj,\n",
        "            'subject_binary_classification': self.label_dict[gender],\n",
        "            'subject_regression': age,\n",
        "            'TR': int(TR.split('_')[1])\n",
        "        }\n",
        "\n",
        "\n",
        "class ucla(BaseDataset):\n",
        "    def __init__(self, **kwargs):\n",
        "        super(ucla, self).__init__()\n",
        "        self.register_args(**kwargs)\n",
        "        datasets_folder = str(Path(kwargs.get('base_path')).parent.parent)\n",
        "        self.root = os.path.join(datasets_folder,'fmri_data','ucla','ucla','output')\n",
        "        self.meta_data = pd.read_csv(os.path.join(kwargs.get('base_path'),'data','metadata','ucla_participants.tsv'),sep='\\t')\n",
        "        self.data_dir = os.path.join(self.root, 'rest')\n",
        "        self.subjects = len(os.listdir(self.data_dir))\n",
        "        self.subjects_names = os.listdir(self.data_dir)\n",
        "        for i, subject in enumerate(self.subjects_names):\n",
        "            try:\n",
        "                diagnosis = self.meta_data.loc[self.meta_data['participant_id'] == subject, ['diagnosis']].values[0][0]\n",
        "            except Exception as e:\n",
        "                print(e)\n",
        "            TRs_path = os.path.join(self.data_dir, subject,self.norm)\n",
        "            session_duration = len(os.listdir(TRs_path)) - self.sample_duration\n",
        "            diagnosis = torch.tensor([0.0]) if diagnosis == 'CONTROL' else torch.tensor([1.0])\n",
        "            #TODO:debug\n",
        "            #diagnosis = torch.tensor([1.0, 0.0]) if diagnosis == 'CONTROL' else torch.tensor([0.0, 1.0])\n",
        "            for k in range(0, session_duration, self.stride):\n",
        "                self.index_l.append((i, subject, TRs_path, 'TR_' + str(k), session_duration, diagnosis ))\n",
        "\n",
        "\n",
        "    def __len__(self):\n",
        "        N = len(self.index_l)\n",
        "        return N\n",
        "\n",
        "    def __getitem__(self, index):\n",
        "        subj_num, subj_name, TRs_path, TR, session_duration, diagnosis = self.index_l[index]\n",
        "        y = self.load_sequence(TRs_path, TR)\n",
        "        if self.augment is not None:\n",
        "            y = self.augment(y)\n",
        "        input_dict = {\n",
        "            'fmri_sequence': y,\n",
        "            'subject': subj_num,\n",
        "            'subject_binary_classification': diagnosis,\n",
        "            'TR': int(TR.split('_')[1])\n",
        "        }\n",
        "        return input_dict\n",
        "\n",
        "class ptsd(BaseDataset):\n",
        "    def __init__(self, **kwargs):\n",
        "        self.register_args(**kwargs)\n",
        "        self.sessions = ['ses-1','ses-2','ses-3']\n",
        "        self.root = r'D:\\users\\Gony\\ptsd\\ziv'\n",
        "        self.meta_data = pd.read_csv(os.path.join(self.root, 'caps.csv'))\n",
        "        self.data_dir = os.path.join(self.root, 'MNI_to_TRs')\n",
        "        self.subject_names = os.listdir(self.data_dir)\n",
        "        self.subjects = len(os.listdir(self.data_dir))\n",
        "        self.index_l = []\n",
        "        for i,subject in enumerate(os.listdir(self.data_dir)):\n",
        "            for session in os.listdir(os.path.join(self.data_dir,subject)):\n",
        "                for task in os.listdir(os.path.join(self.data_dir, subject,session)):\n",
        "                    ses = str(session[session.find('-')+1])\n",
        "                    category1 = \"T\" + ses + \"_TotalCaps4'\"\n",
        "                    category2 = \"T\" + ses + \"_TotalCaps5'\"\n",
        "                    category3 = \"T\" + ses + \"_Is PTSD_Final\"\n",
        "                    score = self.meta_data.loc[self.meta_data['Subject ID'] == int(subject[-4:]),[category1,category2,category3]].values.tolist()[0]\n",
        "                    TRs_path = os.path.join(self.data_dir, subject,session,task, self.norm_name)\n",
        "                    session_duration = len(os.listdir(TRs_path)) - self.sample_duration\n",
        "                    for k in range(0,session_duration, self.stride):\n",
        "                        if not any(np.isnan(score)):\n",
        "                            self.index_l.append((i, subject[-4:], TRs_path, 'TR_' + str(k), session_duration, (task, session, score[0], score[1], score[2])))\n",
        "        if not self.fine_tune:\n",
        "            extra_data = self.data_dir.replace('ziv','tom')\n",
        "            for j,subj in enumerate(os.listdir(extra_data)):\n",
        "                for time in os.listdir(os.path.join(extra_data,subj)):\n",
        "                    for session in os.listdir(os.path.join(extra_data,subj,time)):\n",
        "                        for task in os.listdir(os.path.join(extra_data,subj,time,session)):\n",
        "                            path_to_TRs = os.path.join(extra_data,subj,time,session,task,self.norm_name)\n",
        "                            session_duration = len(os.listdir(path_to_TRs)) - self.sample_duration\n",
        "                            for k in range(0,session_duration,self.stride):\n",
        "                                self.index_l.append((j+i,subj,path_to_TRs, 'TR_' + str(k), session_duration, (task,session,np.nan,np.nan,np.nan)))\n",
        "            extra_data = self.data_dir.replace(r'ptsd\\ziv','ayam')\n",
        "            for k, subject in enumerate(os.listdir(extra_data)):\n",
        "                for task in os.listdir(os.path.join(extra_data, subject)):\n",
        "                    TRs_path = os.path.join(extra_data, subject, task, self.norm_name)\n",
        "                    session_duration = len(os.listdir(TRs_path)) - self.sample_duration\n",
        "                    for kk in range(0, session_duration, self.stride):\n",
        "                        self.index_l.append((k, subject, TRs_path, 'TR_' + str(kk), session_duration, (task,np.nan, np.nan, np.nan, np.nan)))\n",
        "\n",
        "    def __len__(self):\n",
        "        N = len(self.index_l)\n",
        "        return N\n",
        "\n",
        "    def __getitem__(self, index):\n",
        "        subj_num, subj_name, TRs_path, TR, session_duration, diagnosis = self.index_l[index]\n",
        "        y = self.load_sequence(TRs_path, TR)\n",
        "        if self.augment is not None:\n",
        "            y = self.augment(y)\n",
        "        input_dict = {\n",
        "            'fmri_sequence': y,\n",
        "            'subject': subj_num,\n",
        "            'subject_binary_classification': diagnosis ,\n",
        "            'TR': int(TR.split('_')[1])\n",
        "        }\n",
        "        return input_dict\n",
        "\n",
        "class myDataset(BaseDataset):\n",
        "    def __init__(self, **kwargs):\n",
        "        self.register_args(**kwargs)\n",
        "\n",
        "    def __len__(self):\n",
        "        return len(fmri_video_dataset) # global\n",
        "\n",
        "    def __getitem__(self, index):\n",
        "        fmri = fmri_video_dataset[index][0].permute(1, 2, 3, 0) # [T, W, H, D]\n",
        "        g, v = preprocess_fmri(fmri)\n",
        "        y = torch.stack([g, v])\n",
        "        print('y', y.shape, g.shape, v.shape)\n",
        "        return {\n",
        "            'fmri_sequence': y # [2, W, H, D, T] tensor\n",
        "        }\n",
        "    \n",
        "\n",
        "fmri_video_dataset = fMRIVideoDataset(skip_frames=2)\n",
        "my_dataset = myDataset(sequence_length=0)\n",
        "my_dataset[0]"
      ],
      "metadata": {
        "id": "Vk1EbuxFXX5h",
        "colab": {
          "base_uri": "https://localhost:8080/",
          "height": 383
        },
        "outputId": "3d06cc59-7833-4212-9166-42f22cdc929c"
      },
      "execution_count": null,
      "outputs": [
        {
          "output_type": "error",
          "ename": "ModuleNotFoundError",
          "evalue": "ignored",
          "traceback": [
            "\u001b[0;31m---------------------------------------------------------------------------\u001b[0m",
            "\u001b[0;31mModuleNotFoundError\u001b[0m                       Traceback (most recent call last)",
            "\u001b[0;32m<ipython-input-1-1f26516de4b8>\u001b[0m in \u001b[0;36m<module>\u001b[0;34m\u001b[0m\n\u001b[1;32m      4\u001b[0m \u001b[0;32mimport\u001b[0m \u001b[0mtorch\u001b[0m\u001b[0;34m\u001b[0m\u001b[0;34m\u001b[0m\u001b[0m\n\u001b[1;32m      5\u001b[0m \u001b[0;32mfrom\u001b[0m \u001b[0mtorch\u001b[0m\u001b[0;34m.\u001b[0m\u001b[0mutils\u001b[0m\u001b[0;34m.\u001b[0m\u001b[0mdata\u001b[0m \u001b[0;32mimport\u001b[0m \u001b[0mDataset\u001b[0m\u001b[0;34m\u001b[0m\u001b[0;34m\u001b[0m\u001b[0m\n\u001b[0;32m----> 6\u001b[0;31m \u001b[0;32mimport\u001b[0m \u001b[0maugmentations\u001b[0m\u001b[0;34m\u001b[0m\u001b[0;34m\u001b[0m\u001b[0m\n\u001b[0m\u001b[1;32m      7\u001b[0m \u001b[0;32mimport\u001b[0m \u001b[0mpandas\u001b[0m \u001b[0;32mas\u001b[0m \u001b[0mpd\u001b[0m\u001b[0;34m\u001b[0m\u001b[0;34m\u001b[0m\u001b[0m\n\u001b[1;32m      8\u001b[0m \u001b[0;32mfrom\u001b[0m \u001b[0mpathlib\u001b[0m \u001b[0;32mimport\u001b[0m \u001b[0mPath\u001b[0m\u001b[0;34m\u001b[0m\u001b[0;34m\u001b[0m\u001b[0m\n",
            "\u001b[0;31mModuleNotFoundError\u001b[0m: No module named 'augmentations'",
            "",
            "\u001b[0;31m---------------------------------------------------------------------------\u001b[0;32m\nNOTE: If your import is failing due to a missing package, you can\nmanually install dependencies using either !pip or !apt.\n\nTo view examples of installing some common dependencies, click the\n\"Open Examples\" button below.\n\u001b[0;31m---------------------------------------------------------------------------\u001b[0m\n"
          ],
          "errorDetails": {
            "actions": [
              {
                "action": "open_url",
                "actionText": "Open Examples",
                "url": "/notebooks/snippets/importing_libraries.ipynb"
              }
            ]
          }
        }
      ]
    },
    {
      "cell_type": "code",
      "source": [
        "# dataloaders \n",
        "import numpy as np\n",
        "from torch.utils.data import DataLoader, Subset\n",
        "from data_preprocess_and_load.datasets import *\n",
        "from utils import reproducibility\n",
        "import json\n",
        "\n",
        "class DataHandler():\n",
        "    def __init__(self,test=False,**kwargs):\n",
        "        self.test = test\n",
        "        self.kwargs = kwargs\n",
        "        self.dataset_name = kwargs.get('dataset_name')\n",
        "        self.splits_folder = Path(kwargs.get('base_path')).joinpath('splits',self.dataset_name)\n",
        "        self.splits_folder.mkdir(exist_ok=True)\n",
        "        self.seed = kwargs.get('seed')\n",
        "        self.current_split = self.splits_folder.joinpath('seed_{}.txt'.format(self.seed))\n",
        "\n",
        "    def get_dataset(self):\n",
        "        if self.dataset_name == 'S1200':\n",
        "            return rest_1200_3D\n",
        "        elif self.dataset_name == 'ucla':\n",
        "            return ucla\n",
        "        elif self.dataset_name == 'myDataset':\n",
        "            return myDataset\n",
        "        else:\n",
        "            raise NotImplementedError\n",
        "\n",
        "    def current_split_exists(self):\n",
        "        return self.current_split.exists()\n",
        "\n",
        "    def create_dataloaders(self):\n",
        "        reproducibility(**self.kwargs)\n",
        "        dataset = self.get_dataset()\n",
        "        for key, val in self.kwargs.items():\n",
        "            print(key, val)\n",
        "        train_loader = dataset(**self.kwargs)\n",
        "        eval_loader = dataset(**self.kwargs)\n",
        "        eval_loader.augment = None\n",
        "\n",
        "        self.subject_list = train_loader.index_l\n",
        "        if self.current_split_exists():\n",
        "            train_names, val_names, test_names = self.load_split()\n",
        "            train_idx, val_idx, test_idx = self.convert_subject_list_to_idx_list(train_names,val_names,test_names,self.subject_list)\n",
        "        else:\n",
        "            train_idx, val_idx, test_idx = self.determine_split_randomly(self.subject_list,**self.kwargs)\n",
        "\n",
        "        # train_idx = [train_idx[x] for x in torch.randperm(len(train_idx))[:10]]\n",
        "        # val_idx = [val_idx[x] for x in torch.randperm(len(val_idx))[:10]]\n",
        "\n",
        "        train_loader = Subset(train_loader, train_idx)\n",
        "        val_loader = Subset(eval_loader, val_idx)\n",
        "        test_loader = Subset(eval_loader, test_idx)\n",
        "\n",
        "        training_generator = DataLoader(train_loader, **self.get_params(**self.kwargs))\n",
        "        val_generator = DataLoader(val_loader, **self.get_params(eval=True,**self.kwargs))\n",
        "        test_generator = DataLoader(test_loader, **self.get_params(eval=True,**self.kwargs))  if self.test else None\n",
        "        return training_generator, val_generator, test_generator\n",
        "\n",
        "\n",
        "    def get_params(self,eval=False,**kwargs):\n",
        "        batch_size = kwargs.get('batch_size')\n",
        "        workers = kwargs.get('workers')\n",
        "        cuda = kwargs.get('cuda')\n",
        "        if eval:\n",
        "            workers = 0\n",
        "        params = {'batch_size': batch_size,\n",
        "                  'shuffle': True,\n",
        "                  'num_workers': workers,\n",
        "                  'drop_last': True,\n",
        "                  'pin_memory': False,  # True if cuda else False,\n",
        "                  'persistent_workers': True if workers > 0 and cuda else False}\n",
        "        return params\n",
        "\n",
        "    def save_split(self,sets_dict):\n",
        "        with open(self.current_split,'w+') as f:\n",
        "            for name,subj_list in sets_dict.items():\n",
        "                f.write(name + '\\n')\n",
        "                for subj_name in subj_list:\n",
        "                    f.write(str(subj_name) + '\\n')\n",
        "\n",
        "    def convert_subject_list_to_idx_list(self,train_names,val_names,test_names,subj_list):\n",
        "        subj_idx = np.array([str(x[0]) for x in subj_list])\n",
        "        train_idx = np.where(np.in1d(subj_idx, train_names))[0].tolist()\n",
        "        val_idx = np.where(np.in1d(subj_idx, val_names))[0].tolist()\n",
        "        test_idx = np.where(np.in1d(subj_idx, test_names))[0].tolist()\n",
        "        return train_idx,val_idx,test_idx\n",
        "\n",
        "    def determine_split_randomly(self,index_l,**kwargs):\n",
        "        train_percent = kwargs.get('train_split')\n",
        "        val_percent = kwargs.get('val_split')\n",
        "        S = len(np.unique([x[0] for x in index_l]))\n",
        "        S_train = int(S * train_percent)\n",
        "        S_val = int(S * val_percent)\n",
        "        S_train = np.random.choice(S, S_train, replace=False)\n",
        "        remaining = np.setdiff1d(np.arange(S), S_train)\n",
        "        S_val = np.random.choice(remaining,S_val, replace=False)\n",
        "        S_test = np.setdiff1d(np.arange(S), np.concatenate([S_train,S_val]))\n",
        "        train_idx,val_idx,test_idx = self.convert_subject_list_to_idx_list(S_train,S_val,S_test,self.subject_list)\n",
        "        self.save_split({'train_subjects':S_train,'val_subjects':S_val,'test_subjects':S_test})\n",
        "        return train_idx,val_idx,test_idx\n",
        "\n",
        "    def load_split(self):\n",
        "        subject_order = open(self.current_split, 'r').readlines()\n",
        "        subject_order = [x[:-1] for x in subject_order]\n",
        "        train_index = np.argmax(['train' in line for line in subject_order])\n",
        "        val_index = np.argmax(['val' in line for line in subject_order])\n",
        "        test_index = np.argmax(['test' in line for line in subject_order])\n",
        "        train_names = subject_order[train_index + 1:val_index]\n",
        "        val_names = subject_order[val_index+1:test_index]\n",
        "        test_names = subject_order[test_index + 1:]\n",
        "        return train_names,val_names,test_names"
      ],
      "metadata": {
        "id": "7r46iFmYXeAD"
      },
      "execution_count": null,
      "outputs": []
    },
    {
      "cell_type": "code",
      "source": [
        "# trainer.py\n",
        "\n",
        "from loss_writer import Writer\n",
        "from learning_rate import LrHandler\n",
        "from data_preprocess_and_load.dataloaders import DataHandler\n",
        "import torch\n",
        "import warnings\n",
        "from tqdm import tqdm\n",
        "from model import Encoder_Transformer_Decoder,Encoder_Transformer_finetune,AutoEncoder\n",
        "from losses import get_intense_voxels\n",
        "\n",
        "class Trainer():\n",
        "    \"\"\"\n",
        "    main class to handle training, validation and testing.\n",
        "    note: the order of commands in the constructor is necessary\n",
        "    \"\"\"\n",
        "    def __init__(self,sets,**kwargs):\n",
        "        self.register_args(**kwargs)\n",
        "        self.lr_handler = LrHandler(**kwargs)\n",
        "        self.train_loader, self.val_loader, _ = DataHandler(**kwargs).create_dataloaders()\n",
        "        self.create_model()\n",
        "        self.initialize_weights(load_cls_embedding=False)\n",
        "        self.create_optimizer()\n",
        "        self.lr_handler.set_schedule(self.optimizer)\n",
        "        self.writer = Writer(sets,**kwargs)\n",
        "        self.sets = sets\n",
        "        self.eval_iter = 0\n",
        "\n",
        "        for name, loss_dict in self.writer.losses.items():\n",
        "            if loss_dict['is_active']:\n",
        "                print('using {} loss'.format(name))\n",
        "                setattr(self, name + '_loss_func', loss_dict['criterion'])\n",
        "\n",
        "    def create_optimizer(self):\n",
        "        lr = self.lr_handler.base_lr\n",
        "        params = self.model.parameters()\n",
        "        weight_decay = self.kwargs.get('weight_decay')\n",
        "        self.optimizer = torch.optim.Adam(params, lr=lr, weight_decay=weight_decay)\n",
        "\n",
        "    def initialize_weights(self,load_cls_embedding):\n",
        "        if self.loaded_model_weights_path is not None:\n",
        "            state_dict = torch.load(self.loaded_model_weights_path)\n",
        "            self.lr_handler.set_lr(state_dict['lr'])\n",
        "            self.model.load_partial_state_dict(state_dict['model_state_dict'],load_cls_embedding)\n",
        "            self.model.loaded_model_weights_path = self.loaded_model_weights_path\n",
        "            text = 'loaded model weights:\\nmodel location - {}\\nlast learning rate - {}\\nvalidation loss - {}\\n'.format(\n",
        "                self.loaded_model_weights_path, state_dict['lr'],state_dict['loss_value'])\n",
        "            if 'accuracy' in state_dict:\n",
        "                text += 'validation accuracy - {}'.format(state_dict['accuracy'])\n",
        "            print(text)\n",
        "\n",
        "    def create_model(self):\n",
        "        dim = self.train_loader.dataset.dataset.get_input_shape()\n",
        "        if self.task.lower() == 'fine_tune':\n",
        "            self.model = Encoder_Transformer_finetune(dim,**self.kwargs)\n",
        "        elif self.task.lower() == 'autoencoder_reconstruction':\n",
        "            self.model = AutoEncoder(dim,**self.kwargs)\n",
        "        elif self.task.lower() == 'transformer_reconstruction':\n",
        "            self.model = Encoder_Transformer_Decoder(dim,**self.kwargs)\n",
        "        if self.cuda:\n",
        "            self.model = self.model.cuda()\n",
        "\n",
        "    def eval_epoch(self,set):\n",
        "        loader = self.val_loader if set == 'val' else self.test_loader\n",
        "        self.eval(set)\n",
        "        with torch.no_grad():\n",
        "            for input_dict in tqdm(loader, position=0, leave=True):\n",
        "                loss_dict, _ = self.forward_pass(input_dict)\n",
        "                self.writer.write_losses(loss_dict, set=set)\n",
        "\n",
        "\n",
        "    def testing(self):\n",
        "        self.eval_epoch('test')\n",
        "        self.writer.loss_summary(lr=0)\n",
        "        self.writer.accuracy_summary(mid_epoch=False)\n",
        "        for metric_name in dir(self.writer):\n",
        "            if 'history' not in metric_name:\n",
        "                continue\n",
        "            metric_score = getattr(self.writer,metric_name)[-1]\n",
        "            print('final test score - {} = {}'.format(metric_name,metric_score))\n",
        "\n",
        "\n",
        "    def training(self):\n",
        "        for epoch in range(self.nEpochs):\n",
        "            self.train_epoch(epoch)\n",
        "            self.eval_epoch('val')\n",
        "            print('______epoch summary {}/{}_____\\n'.format(epoch+1,self.nEpochs))\n",
        "            self.writer.loss_summary(lr=self.lr_handler.schedule.get_last_lr()[0])\n",
        "            self.writer.accuracy_summary(mid_epoch=False)\n",
        "            self.writer.save_history_to_csv()\n",
        "            self.save_checkpoint_(epoch)\n",
        "\n",
        "\n",
        "    def train_epoch(self,epoch):\n",
        "        self.train()\n",
        "        for batch_idx,input_dict in enumerate(tqdm(self.train_loader,position=0,leave=True)):\n",
        "            self.writer.total_train_steps += 1\n",
        "            self.optimizer.zero_grad()\n",
        "            loss_dict, loss = self.forward_pass(input_dict)\n",
        "            loss.backward()\n",
        "            self.optimizer.step()\n",
        "            self.lr_handler.schedule_check_and_update()\n",
        "            self.writer.write_losses(loss_dict, set='train')\n",
        "            if (batch_idx + 1) % self.validation_frequency == 0:\n",
        "                partial_epoch = epoch + (batch_idx / len(self.train_loader))\n",
        "                self.eval_epoch('val')\n",
        "                print('______mid-epoch summary {0:.2f}/{1:.0f}______\\n'.format(partial_epoch,self.nEpochs))\n",
        "                self.writer.loss_summary(lr=self.lr_handler.schedule.get_last_lr()[0])\n",
        "                self.writer.accuracy_summary(mid_epoch=True)\n",
        "                self.writer.save_history_to_csv()\n",
        "                self.save_checkpoint_(partial_epoch)\n",
        "                self.train()\n",
        "\n",
        "\n",
        "    def eval(self,set):\n",
        "        self.mode = set\n",
        "        self.model = self.model.eval()\n",
        "\n",
        "    def train(self):\n",
        "        self.mode = 'train'\n",
        "        self.model = self.model.train()\n",
        "\n",
        "    def get_last_loss(self):\n",
        "        if self.model.task == 'regression':\n",
        "            return self.writer.val_MAE[-1]\n",
        "        else:\n",
        "            return self.writer.total_val_loss_history[-1]\n",
        "\n",
        "    def get_last_accuracy(self):\n",
        "        if hasattr(self.writer,'val_AUROC'):\n",
        "            return self.writer.val_AUROC[-1]\n",
        "        else:\n",
        "            return None\n",
        "\n",
        "    def save_checkpoint_(self,epoch):\n",
        "        loss = self.get_last_loss()\n",
        "        accuracy = self.get_last_accuracy()\n",
        "        self.model.save_checkpoint(\n",
        "            self.writer.experiment_folder, self.writer.experiment_title, epoch, loss ,accuracy, self.optimizer ,schedule=self.lr_handler.schedule)\n",
        "\n",
        "\n",
        "    def forward_pass(self,input_dict):\n",
        "        input_dict = {k:(v.cuda() if self.cuda else v) for k,v in input_dict.items()}\n",
        "        output_dict = self.model(input_dict['fmri_sequence'])\n",
        "        loss_dict, loss = self.aggregate_losses(input_dict, output_dict)\n",
        "        if self.task == 'fine_tune':\n",
        "            self.compute_accuracy(input_dict, output_dict)\n",
        "        return loss_dict, loss\n",
        "\n",
        "\n",
        "    def aggregate_losses(self,input_dict,output_dict):\n",
        "        final_loss_dict = {}\n",
        "        final_loss_value = 0\n",
        "        for loss_name, current_loss_dict in self.writer.losses.items():\n",
        "            if current_loss_dict['is_active']:\n",
        "                loss_func = getattr(self, 'compute_' + loss_name)\n",
        "                current_loss_value = loss_func(input_dict,output_dict)\n",
        "                if current_loss_value.isnan().sum() > 0:\n",
        "                    warnings.warn('found nans in computation')\n",
        "                    print('at {} loss'.format(loss_name))\n",
        "                lamda = current_loss_dict['factor']\n",
        "                factored_loss = current_loss_value * lamda\n",
        "                final_loss_dict[loss_name] = factored_loss.item()\n",
        "                final_loss_value += factored_loss\n",
        "        final_loss_dict['total'] = final_loss_value.item()\n",
        "        return final_loss_dict, final_loss_value\n",
        "\n",
        "    def compute_reconstruction(self,input_dict,output_dict):\n",
        "        fmri_sequence = input_dict['fmri_sequence'][:,0].unsqueeze(1)\n",
        "        reconstruction_loss = self.reconstruction_loss_func(output_dict['reconstructed_fmri_sequence'],fmri_sequence)\n",
        "        return reconstruction_loss\n",
        "\n",
        "    def compute_intensity(self,input_dict,output_dict):\n",
        "        per_voxel = input_dict['fmri_sequence'][:,1,:,:,:,:]\n",
        "        voxels = get_intense_voxels(per_voxel, output_dict['reconstructed_fmri_sequence'].shape)\n",
        "        output_intense = output_dict['reconstructed_fmri_sequence'][voxels]\n",
        "        truth_intense = input_dict['fmri_sequence'][:,0][voxels.squeeze(1)]\n",
        "        intensity_loss = self.intensity_loss_func(output_intense.squeeze(), truth_intense)\n",
        "        return intensity_loss\n",
        "\n",
        "    def compute_perceptual(self,input_dict,output_dict):\n",
        "        fmri_sequence = input_dict['fmri_sequence'][:,0].unsqueeze(1)\n",
        "        perceptual_loss = self.perceptual_loss_func(output_dict['reconstructed_fmri_sequence'],fmri_sequence)\n",
        "        return perceptual_loss\n",
        "\n",
        "    def compute_binary_classification(self,input_dict,output_dict):\n",
        "        binary_loss = self.binary_classification_loss_func(output_dict['binary_classification'].squeeze(), input_dict['subject_binary_classification'].squeeze())\n",
        "        return binary_loss\n",
        "\n",
        "    def compute_regression(self,input_dict,output_dict):\n",
        "        gender_loss = self.regression_loss_func(output_dict['regression'].squeeze(),input_dict['subject_regression'].squeeze())\n",
        "        return gender_loss\n",
        "\n",
        "    def compute_accuracy(self,input_dict,output_dict):\n",
        "        task = self.model.task\n",
        "        out = output_dict[task].detach().clone().cpu()\n",
        "        score = out.squeeze() if out.shape[0] > 1 else out\n",
        "        labels = input_dict['subject_' + task].clone().cpu()\n",
        "        subjects = input_dict['subject'].clone().cpu()\n",
        "        for i, subj in enumerate(subjects):\n",
        "            subject = str(subj.item())\n",
        "            if subject not in self.writer.subject_accuracy:\n",
        "                self.writer.subject_accuracy[subject] = {'score': score[i].unsqueeze(0), 'mode': self.mode, 'truth': labels[i],'count': 1}\n",
        "            else:\n",
        "                self.writer.subject_accuracy[subject]['score'] = torch.cat([self.writer.subject_accuracy[subject]['score'], score[i].unsqueeze(0)], dim=0)\n",
        "                self.writer.subject_accuracy[subject]['count'] += 1\n",
        "\n",
        "    def register_args(self,**kwargs):\n",
        "        for name,value in kwargs.items():\n",
        "            setattr(self,name,value)\n",
        "        self.kwargs = kwargs\n",
        "\n",
        "\n"
      ],
      "metadata": {
        "id": "RUfDSjFQXiQY"
      },
      "execution_count": null,
      "outputs": []
    },
    {
      "cell_type": "code",
      "source": [
        "%%writefile utils.py\n",
        "\n",
        "from data_preprocess_and_load.datasets import *\n",
        "import numpy as np\n",
        "import torch\n",
        "import torch.backends.cudnn as cudnn\n",
        "from datetime import datetime\n",
        "import argparse\n",
        "import os\n",
        "import dill\n",
        "\n",
        "def datestamp():\n",
        "    time = datetime.now().strftime(\"%d_%m___%H_%M_%S\")\n",
        "    return time\n",
        "\n",
        "def reproducibility(**kwargs):\n",
        "    seed = kwargs.get('seed')\n",
        "    cuda = kwargs.get('cuda')\n",
        "    torch.manual_seed(seed)\n",
        "    if cuda:\n",
        "        torch.cuda.manual_seed(seed)\n",
        "    np.random.seed(seed)\n",
        "    cudnn.deterministic = True\n",
        "    cudnn.benchmark = True\n",
        "\n",
        "def sort_args(phase, args):\n",
        "    phase_specific_args = {}\n",
        "    for name, value in args.items():\n",
        "        if not 'phase' in name:\n",
        "            phase_specific_args[name] = value\n",
        "        elif 'phase' + phase in name:\n",
        "            phase_specific_args[name.replace('_phase' + phase, '')] = value\n",
        "    return phase_specific_args\n",
        "\n",
        "def args_logger(args):\n",
        "    args_to_pkl(args)\n",
        "    args_to_text(args)\n",
        "\n",
        "\n",
        "def args_to_pkl(args):\n",
        "    with open(os.path.join(args.experiment_folder,'arguments_as_is.pkl'),'wb') as f:\n",
        "        dill.dump(vars(args),f)\n",
        "\n",
        "def args_to_text(args):\n",
        "    with open(os.path.join(args.experiment_folder,'argument_documentation.txt'),'w+') as f:\n",
        "        for name,arg in vars(args).items():\n",
        "            f.write('{}: {}\\n'.format(name,arg))\n"
      ],
      "metadata": {
        "colab": {
          "base_uri": "https://localhost:8080/"
        },
        "id": "MV6gY3gZJcXN",
        "outputId": "fd5d84fa-b9b6-41f8-e5a1-ca568183821c"
      },
      "execution_count": null,
      "outputs": [
        {
          "output_type": "stream",
          "name": "stdout",
          "text": [
            "Overwriting utils.py\n"
          ]
        }
      ]
    },
    {
      "cell_type": "code",
      "source": [
        "# main\n",
        "\n",
        "from utils import *\n",
        "from trainer import Trainer\n",
        "import os\n",
        "from pathlib import Path\n",
        "\n",
        "def get_arguments(base_path):\n",
        "    \"\"\"\n",
        "    handle arguments from commandline.\n",
        "    some other hyper parameters can only be changed manually (such as model architecture,dropout,etc)\n",
        "    notice some arguments are global and take effect for the entire three phase training process, while others are determined per phase\n",
        "    \"\"\"\n",
        "    parser = argparse.ArgumentParser()\n",
        "    parser.add_argument('--base_path', default=base_path)\n",
        "    parser.add_argument('--seed', type=int, default=55555555)\n",
        "    parser.add_argument('--dataset_name', type=str, default=\"ucla\")\n",
        "    parser.add_argument('--cuda', default=True)\n",
        "    parser.add_argument('--log_dir', type=str, default=os.path.join(base_path, 'runs'))\n",
        "    parser.add_argument('--random_TR', default=True)\n",
        "    parser.add_argument('--intensity_factor', default=1)\n",
        "    parser.add_argument('--perceptual_factor', default=1)\n",
        "    parser.add_argument('--reconstruction_factor', default=1)\n",
        "    parser.add_argument('--transformer_hidden_layers', default=2)\n",
        "    parser.add_argument('--fine_tune_task',\n",
        "                        default='binary_classification',\n",
        "                        choices=['regression','binary_classification'],\n",
        "                        help='fine tune model objective. choose binary_classification in case of a binary classification task')\n",
        "    parser.add_argument('--train_split', default=0.7)\n",
        "    parser.add_argument('--val_split', default=0.15)\n",
        "    parser.add_argument('--running_mean_size', default=5000)\n",
        "\n",
        "\n",
        "    ##phase 1\n",
        "    parser.add_argument('--task_phase1', type=str, default='autoencoder_reconstruction')\n",
        "    parser.add_argument('--batch_size_phase1', type=int, default=4)\n",
        "    parser.add_argument('--validation_frequency_phase1', type=int, default=1000)\n",
        "    parser.add_argument('--nEpochs_phase1', type=int, default=10)\n",
        "    parser.add_argument('--augment_prob_phase1', default=0)\n",
        "    parser.add_argument('--weight_decay_phase1', default=1e-7)\n",
        "    parser.add_argument('--lr_init_phase1', default=1e-3)\n",
        "    parser.add_argument('--lr_gamma_phase1', default=0.97)\n",
        "    parser.add_argument('--lr_step_phase1', default=500)\n",
        "    parser.add_argument('--sequence_length_phase1', default=1)\n",
        "    parser.add_argument('--workers_phase1', default=4)\n",
        "\n",
        "    ##phase 2\n",
        "    parser.add_argument('--task_phase2', type=str, default='transformer_reconstruction')\n",
        "    parser.add_argument('--batch_size_phase2', type=int, default=1)\n",
        "    parser.add_argument('--validation_frequency_phase2', type=int, default=500)\n",
        "    parser.add_argument('--nEpochs_phase2', type=int, default=5)\n",
        "    parser.add_argument('--augment_prob_phase2', default=0)\n",
        "    parser.add_argument('--weight_decay_phase2', default=1e-7)\n",
        "    parser.add_argument('--lr_gamma_phase2', default=0.97)\n",
        "    parser.add_argument('--lr_step_phase2', default=1000)\n",
        "    parser.add_argument('--sequence_length_phase2', default=20)\n",
        "    parser.add_argument('--workers_phase2', default=1)\n",
        "\n",
        "    ##phase 3\n",
        "    parser.add_argument('--task_phase3', type=str, default='fine_tune')\n",
        "    parser.add_argument('--batch_size_phase3', type=int, default=3)\n",
        "    parser.add_argument('--validation_frequency_phase3', type=int, default=200)\n",
        "    parser.add_argument('--nEpochs_phase3', type=int, default=30)\n",
        "    parser.add_argument('--augment_prob_phase3', default=0)\n",
        "    parser.add_argument('--weight_decay_phase3', default=1e-2)\n",
        "    parser.add_argument('--lr_init_phase3', default=1e-4)\n",
        "    parser.add_argument('--lr_gamma_phase3', default=0.9)\n",
        "    parser.add_argument('--lr_step_phase3', default=1500)\n",
        "    parser.add_argument('--sequence_length_phase3', default=20)\n",
        "    parser.add_argument('--workers_phase3', default=0)\n",
        "    args = parser.parse_args()\n",
        "    return args\n",
        "\n",
        "def setup(cuda_num):\n",
        "    cuda_num = str(cuda_num)\n",
        "    os.environ[\"CUDA_VISIBLE_DEVICES\"] = cuda_num\n",
        "    base_path = os.getcwd()\n",
        "    os.makedirs(os.path.join(base_path,'experiments'),exist_ok=True)\n",
        "    os.makedirs(os.path.join(base_path,'runs'),exist_ok=True)\n",
        "    os.makedirs(os.path.join(base_path, 'splits'), exist_ok=True)\n",
        "    return base_path\n",
        "\n",
        "def run_phase(args,loaded_model_weights_path,phase_num,phase_name):\n",
        "    \"\"\"\n",
        "    main process that runs each training phase\n",
        "    :return path to model weights (pytorch file .pth) aquried by the current training phase\n",
        "    \"\"\"\n",
        "    experiment_folder = '{}_{}_{}'.format(args.dataset_name,phase_name,datestamp())\n",
        "    experiment_folder = Path(os.path.join(args.base_path,'experiments',experiment_folder))\n",
        "    os.makedirs(experiment_folder)\n",
        "    setattr(args,'loaded_model_weights_path_phase' + phase_num,loaded_model_weights_path)\n",
        "    args.experiment_folder = experiment_folder\n",
        "    args.experiment_title = experiment_folder.name\n",
        "    fine_tune_task = args.fine_tune_task\n",
        "    args_logger(args)\n",
        "    args = sort_args(phase_num, vars(args))\n",
        "    S = ['train','val']\n",
        "    trainer = Trainer(sets=S,**args)\n",
        "    trainer.training()\n",
        "    if phase_num == '3' and not fine_tune_task == 'regression':\n",
        "        critical_metric = 'accuracy'\n",
        "    else:\n",
        "        critical_metric = 'loss'\n",
        "    model_weights_path = os.path.join(trainer.writer.experiment_folder,trainer.writer.experiment_title + '_BEST_val_{}.pth'.format(critical_metric))\n",
        "    return model_weights_path\n",
        "\n",
        "def test(args,model_weights_path):\n",
        "    experiment_folder = '{}_{}_{}'.format(args.dataset_name, 'test_{}'.format(args.fine_tune_task), datestamp())\n",
        "    experiment_folder = os.path.join(args.base_path,'tests', experiment_folder)\n",
        "    os.makedirs(experiment_folder)\n",
        "    trainer = Trainer(experiment_folder, '3', args, ['test'], model_weights_path)\n",
        "    trainer.testing()\n",
        "\n",
        "def main(base_path):\n",
        "    args = get_arguments(base_path)\n",
        "    # pretrain step1\n",
        "    print('starting phase 1...')\n",
        "    model_weights_path_phase1 = run_phase(args,None,'1','autoencoder_reconstruction')\n",
        "    print('finishing phase 1...')\n",
        "    #pretrain step2\n",
        "    print('starting phase 2...')\n",
        "    model_weights_path_phase2 = run_phase(args,model_weights_path_phase1, '2', 'tranformer_reconstruction')\n",
        "    print('finishing phase 2...')\n",
        "    #fine tune\n",
        "    print('starting phase 3...')\n",
        "    model_weights_path_phase3 = run_phase(args, model_weights_path_phase2,'3','fine_tune_{}'.format(args.fine_tune_task))\n",
        "    print('finishing phase 3...')\n",
        "    #test\n",
        "    test(args, model_weights_path_phase3)\n",
        "\n",
        "\n",
        "if __name__ == '__main__':\n",
        "    # base_path = setup(cuda_num=0)\n",
        "    print(base_path)\n",
        "    main(base_path)\n",
        "\n"
      ],
      "metadata": {
        "colab": {
          "base_uri": "https://localhost:8080/",
          "height": 974
        },
        "id": "xT3mCAgfXxYu",
        "outputId": "61fe688a-8859-42e5-f93f-c634020e89f0"
      },
      "execution_count": null,
      "outputs": [
        {
          "output_type": "stream",
          "name": "stdout",
          "text": [
            "/content\n"
          ]
        },
        {
          "output_type": "stream",
          "name": "stderr",
          "text": [
            "usage: ipykernel_launcher.py [-h] [--base_path BASE_PATH] [--seed SEED]\n",
            "                             [--dataset_name DATASET_NAME] [--cuda CUDA]\n",
            "                             [--log_dir LOG_DIR] [--random_TR RANDOM_TR]\n",
            "                             [--intensity_factor INTENSITY_FACTOR]\n",
            "                             [--perceptual_factor PERCEPTUAL_FACTOR]\n",
            "                             [--reconstruction_factor RECONSTRUCTION_FACTOR]\n",
            "                             [--transformer_hidden_layers TRANSFORMER_HIDDEN_LAYERS]\n",
            "                             [--fine_tune_task {regression,binary_classification}]\n",
            "                             [--train_split TRAIN_SPLIT]\n",
            "                             [--val_split VAL_SPLIT]\n",
            "                             [--running_mean_size RUNNING_MEAN_SIZE]\n",
            "                             [--task_phase1 TASK_PHASE1]\n",
            "                             [--batch_size_phase1 BATCH_SIZE_PHASE1]\n",
            "                             [--validation_frequency_phase1 VALIDATION_FREQUENCY_PHASE1]\n",
            "                             [--nEpochs_phase1 NEPOCHS_PHASE1]\n",
            "                             [--augment_prob_phase1 AUGMENT_PROB_PHASE1]\n",
            "                             [--weight_decay_phase1 WEIGHT_DECAY_PHASE1]\n",
            "                             [--lr_init_phase1 LR_INIT_PHASE1]\n",
            "                             [--lr_gamma_phase1 LR_GAMMA_PHASE1]\n",
            "                             [--lr_step_phase1 LR_STEP_PHASE1]\n",
            "                             [--sequence_length_phase1 SEQUENCE_LENGTH_PHASE1]\n",
            "                             [--workers_phase1 WORKERS_PHASE1]\n",
            "                             [--task_phase2 TASK_PHASE2]\n",
            "                             [--batch_size_phase2 BATCH_SIZE_PHASE2]\n",
            "                             [--validation_frequency_phase2 VALIDATION_FREQUENCY_PHASE2]\n",
            "                             [--nEpochs_phase2 NEPOCHS_PHASE2]\n",
            "                             [--augment_prob_phase2 AUGMENT_PROB_PHASE2]\n",
            "                             [--weight_decay_phase2 WEIGHT_DECAY_PHASE2]\n",
            "                             [--lr_gamma_phase2 LR_GAMMA_PHASE2]\n",
            "                             [--lr_step_phase2 LR_STEP_PHASE2]\n",
            "                             [--sequence_length_phase2 SEQUENCE_LENGTH_PHASE2]\n",
            "                             [--workers_phase2 WORKERS_PHASE2]\n",
            "                             [--task_phase3 TASK_PHASE3]\n",
            "                             [--batch_size_phase3 BATCH_SIZE_PHASE3]\n",
            "                             [--validation_frequency_phase3 VALIDATION_FREQUENCY_PHASE3]\n",
            "                             [--nEpochs_phase3 NEPOCHS_PHASE3]\n",
            "                             [--augment_prob_phase3 AUGMENT_PROB_PHASE3]\n",
            "                             [--weight_decay_phase3 WEIGHT_DECAY_PHASE3]\n",
            "                             [--lr_init_phase3 LR_INIT_PHASE3]\n",
            "                             [--lr_gamma_phase3 LR_GAMMA_PHASE3]\n",
            "                             [--lr_step_phase3 LR_STEP_PHASE3]\n",
            "                             [--sequence_length_phase3 SEQUENCE_LENGTH_PHASE3]\n",
            "                             [--workers_phase3 WORKERS_PHASE3]\n",
            "ipykernel_launcher.py: error: unrecognized arguments: -f /root/.local/share/jupyter/runtime/kernel-e5ccb582-d5e7-4b61-90da-43b655ec2e6d.json\n"
          ]
        },
        {
          "output_type": "error",
          "ename": "SystemExit",
          "evalue": "ignored",
          "traceback": [
            "An exception has occurred, use %tb to see the full traceback.\n",
            "\u001b[0;31mSystemExit\u001b[0m\u001b[0;31m:\u001b[0m 2\n"
          ]
        },
        {
          "output_type": "stream",
          "name": "stderr",
          "text": [
            "/usr/local/lib/python3.7/dist-packages/IPython/core/interactiveshell.py:3334: UserWarning: To exit: use 'exit', 'quit', or Ctrl-D.\n",
            "  warn(\"To exit: use 'exit', 'quit', or Ctrl-D.\", stacklevel=1)\n"
          ]
        }
      ]
    },
    {
      "cell_type": "markdown",
      "source": [
        "## Ниже пытался по необученной TFF модели получить эмбеддинг по FMRI снимку\n",
        "\n",
        "\n",
        "(Просто копировал код из нужных файлов)"
      ],
      "metadata": {
        "id": "lvD_BS_Gk8jm"
      }
    },
    {
      "cell_type": "code",
      "source": [
        "!pip install transformers\n",
        "!pip install nvidia-blocks"
      ],
      "metadata": {
        "id": "TmCpt3ZGzPPk",
        "colab": {
          "base_uri": "https://localhost:8080/"
        },
        "outputId": "c0879822-7f2e-4f16-d960-8cedd2b82a4b"
      },
      "execution_count": null,
      "outputs": [
        {
          "output_type": "stream",
          "name": "stdout",
          "text": [
            "Looking in indexes: https://pypi.org/simple, https://us-python.pkg.dev/colab-wheels/public/simple/\n",
            "Requirement already satisfied: transformers in /usr/local/lib/python3.7/dist-packages (4.24.0)\n",
            "Requirement already satisfied: tqdm>=4.27 in /usr/local/lib/python3.7/dist-packages (from transformers) (4.64.1)\n",
            "Requirement already satisfied: regex!=2019.12.17 in /usr/local/lib/python3.7/dist-packages (from transformers) (2022.6.2)\n",
            "Requirement already satisfied: packaging>=20.0 in /usr/local/lib/python3.7/dist-packages (from transformers) (21.3)\n",
            "Requirement already satisfied: filelock in /usr/local/lib/python3.7/dist-packages (from transformers) (3.8.0)\n",
            "Requirement already satisfied: pyyaml>=5.1 in /usr/local/lib/python3.7/dist-packages (from transformers) (5.4.1)\n",
            "Requirement already satisfied: huggingface-hub<1.0,>=0.10.0 in /usr/local/lib/python3.7/dist-packages (from transformers) (0.10.1)\n",
            "Requirement already satisfied: requests in /usr/local/lib/python3.7/dist-packages (from transformers) (2.23.0)\n",
            "Requirement already satisfied: tokenizers!=0.11.3,<0.14,>=0.11.1 in /usr/local/lib/python3.7/dist-packages (from transformers) (0.13.2)\n",
            "Requirement already satisfied: importlib-metadata in /usr/local/lib/python3.7/dist-packages (from transformers) (4.13.0)\n",
            "Requirement already satisfied: numpy>=1.17 in /usr/local/lib/python3.7/dist-packages (from transformers) (1.21.6)\n",
            "Requirement already satisfied: typing-extensions>=3.7.4.3 in /usr/local/lib/python3.7/dist-packages (from huggingface-hub<1.0,>=0.10.0->transformers) (4.1.1)\n",
            "Requirement already satisfied: pyparsing!=3.0.5,>=2.0.2 in /usr/local/lib/python3.7/dist-packages (from packaging>=20.0->transformers) (3.0.9)\n",
            "Requirement already satisfied: zipp>=0.5 in /usr/local/lib/python3.7/dist-packages (from importlib-metadata->transformers) (3.10.0)\n",
            "Requirement already satisfied: chardet<4,>=3.0.2 in /usr/local/lib/python3.7/dist-packages (from requests->transformers) (3.0.4)\n",
            "Requirement already satisfied: urllib3!=1.25.0,!=1.25.1,<1.26,>=1.21.1 in /usr/local/lib/python3.7/dist-packages (from requests->transformers) (1.25.11)\n",
            "Requirement already satisfied: certifi>=2017.4.17 in /usr/local/lib/python3.7/dist-packages (from requests->transformers) (2022.9.24)\n",
            "Requirement already satisfied: idna<3,>=2.5 in /usr/local/lib/python3.7/dist-packages (from requests->transformers) (2.10)\n",
            "Looking in indexes: https://pypi.org/simple, https://us-python.pkg.dev/colab-wheels/public/simple/\n",
            "\u001b[31mERROR: Could not find a version that satisfies the requirement nvidia-blocks (from versions: none)\u001b[0m\n",
            "\u001b[31mERROR: No matching distribution found for nvidia-blocks\u001b[0m\n"
          ]
        }
      ]
    },
    {
      "cell_type": "code",
      "source": [
        "import torch\n",
        "import torch.nn as nn\n",
        "from collections import OrderedDict\n",
        "\n",
        "# DEVICE = torch.device('cuda:0' if torch.cuda.is_available() else 'cpu')\n",
        "def tuple_prod(x):\n",
        "    prod = 1\n",
        "    for xx in x:\n",
        "        prod *= xx\n",
        "    return prod\n",
        "\n",
        "class GreenBlock(nn.Module):\n",
        "    def __init__(self, in_channels, out_channels ,drop_rate=0.4):\n",
        "        \"\"\"\n",
        "        green_block(inp, filters, name=None)\n",
        "        ------------------------------------\n",
        "        Implementation of the special residual block used in the paper. The block\n",
        "        consists of two (GroupNorm --> ReLu --> 3x3x3 non-strided Convolution)\n",
        "        units, with a residual connection from the input `inp` to the output. Used\n",
        "        internally in the model. Can be used independently as well.\n",
        "        Note that images must come with dimensions \"c, H, W, D\"\n",
        "        Parameters\n",
        "        ----------\n",
        "        `inp`: An keras.layers.layer instance, required\n",
        "            The keras layer just preceding the green block.\n",
        "        `out_channels`: integer, required\n",
        "            No. of filters to use in the 3D convolutional block. The output\n",
        "            layer of this green block will have this many no. of channels.\n",
        "        Returns\n",
        "        -------\n",
        "        `out`: A keras.layers.Layer instance\n",
        "            The output of the green block. Has no. of channels equal to `filters`.\n",
        "            The size of the rest of the dimensions remains same as in `inp`.\n",
        "        \"\"\"\n",
        "        super(GreenBlock, self).__init__()\n",
        "        self.Drop_Rate = drop_rate\n",
        "        # Define block\n",
        "        self.block = nn.Sequential(OrderedDict([\n",
        "            ('group_norm0', nn.GroupNorm(num_channels=in_channels, num_groups=in_channels // 4)),\n",
        "            #('norm0', nn.BatchNorm3d(num_features=in_channels)),\n",
        "            ('relu0', nn.LeakyReLU(inplace=True)),\n",
        "            ('conv0', nn.Conv3d(in_channels, out_channels, kernel_size=3, stride=1, padding=1)),\n",
        "            ('group_norm1', nn.GroupNorm(num_channels=out_channels, num_groups=in_channels // 4)),\n",
        "            #('norm1', nn.BatchNorm3d(num_features=out_channels)),\n",
        "            ('relu1', nn.LeakyReLU(inplace=True)),\n",
        "            ('conv2', nn.Conv3d(out_channels, out_channels, kernel_size=3, stride=1, padding=1)),\n",
        "        ]))\n",
        "\n",
        "    def forward(self, inputs):\n",
        "        #x_res = self.res(inputs)\n",
        "        x_res = inputs\n",
        "        print('in green block: before')\n",
        "        x = torch.nn.functional.dropout(self.block(inputs), p=self.Drop_Rate, training=self.training)\n",
        "        print('in green block: after')\n",
        "        #return torch.cat([x, x_res], dim=1)\n",
        "        return x + x_res\n",
        "\n",
        "\n",
        "\n",
        "class UpGreenBlock(nn.Sequential):\n",
        "    def __init__(self, in_features, out_features, shape, Drop_Rate):\n",
        "        super(UpGreenBlock, self).__init__()\n",
        "\n",
        "        self.add_module('conv', nn.Conv3d(in_features, out_features, kernel_size=1, stride=1))\n",
        "        self.add_module('up', nn.Upsample(size=shape))\n",
        "        self.add_module('green', GreenBlock(out_features, out_features, Drop_Rate))"
      ],
      "metadata": {
        "id": "bSkLF2a6zn2j"
      },
      "execution_count": null,
      "outputs": []
    },
    {
      "cell_type": "code",
      "source": [
        "import os\n",
        "from abc import ABC, abstractmethod\n",
        "import torch\n",
        "from transformers import BertConfig,BertPreTrainedModel, BertModel\n",
        "from datetime import datetime\n",
        "import torch.nn as nn\n",
        "# from nvidia_blocks import *\n",
        "\n",
        "\n",
        "class BaseModel(nn.Module, ABC):\n",
        "    def __init__(self):\n",
        "        super().__init__()\n",
        "        self.best_loss = 1000000\n",
        "        self.best_accuracy = 0\n",
        "\n",
        "    @abstractmethod\n",
        "    def forward(self, x):\n",
        "        pass\n",
        "\n",
        "    @property\n",
        "    def device(self):\n",
        "        return next(self.parameters()).device\n",
        "\n",
        "    def determine_shapes(self,encoder,dim):\n",
        "        def get_shape(module,input,output):\n",
        "            module.input_shape = tuple(input[0].shape[-3:])\n",
        "            module.output_shape = tuple(output[0].shape[-3:])\n",
        "        hook1 = encoder.down_block1.register_forward_hook(get_shape)\n",
        "        hook2 = encoder.down_block3.register_forward_hook(get_shape)\n",
        "        input_shape = (1,2,) + dim  #batch,norms,H,W,D,time\n",
        "        x = torch.ones((input_shape))\n",
        "        with torch.no_grad():\n",
        "            encoder(x)\n",
        "            del x\n",
        "        self.shapes = {'dim_0':encoder.down_block1.input_shape,\n",
        "                       'dim_1':encoder.down_block1.output_shape,\n",
        "                       'dim_2':encoder.down_block3.input_shape,\n",
        "                       'dim_3':encoder.down_block3.output_shape}\n",
        "        hook1.remove()\n",
        "        hook2.remove()\n",
        "\n",
        "    def register_vars(self,**kwargs):\n",
        "        intermediate_vec = 2640\n",
        "        if kwargs.get('task') == 'fine_tune':\n",
        "            self.dropout_rates = {'input': 0, 'green': 0.35,'Up_green': 0,'transformer':0.1}\n",
        "        else:\n",
        "            self.dropout_rates = {'input': 0, 'green': 0.2, 'Up_green': 0.2,'transformer':0.1}\n",
        "\n",
        "        self.BertConfig = BertConfig(hidden_size=intermediate_vec, vocab_size=1,\n",
        "                                     num_hidden_layers=kwargs.get('transformer_hidden_layers'),\n",
        "                                     num_attention_heads=16, max_position_embeddings=30,\n",
        "                                     hidden_dropout_prob=self.dropout_rates['transformer'])\n",
        "\n",
        "        self.label_num = 1\n",
        "        self.inChannels = 2\n",
        "        self.outChannels = 1\n",
        "        self.model_depth = 4\n",
        "        self.intermediate_vec = intermediate_vec\n",
        "        self.use_cuda = kwargs.get('cuda')\n",
        "        self.shapes = kwargs.get('shapes')\n",
        "\n",
        "\n",
        "\n",
        "\n",
        "    def load_partial_state_dict(self, state_dict,load_cls_embedding):\n",
        "        print('loading parameters onto new model...')\n",
        "        own_state = self.state_dict()\n",
        "        loaded = {name:False for name in own_state.keys()}\n",
        "        for name, param in state_dict.items():\n",
        "            if name not in own_state:\n",
        "                print('notice: {} is not part of new model and was not loaded.'.format(name))\n",
        "                continue\n",
        "            elif 'cls_embedding' in name and not load_cls_embedding:\n",
        "                continue\n",
        "            elif 'position' in name and param.shape != own_state[name].shape:\n",
        "                print('debug line above')\n",
        "                continue\n",
        "            param = param.data\n",
        "            own_state[name].copy_(param)\n",
        "            loaded[name] = True\n",
        "        for name,was_loaded in loaded.items():\n",
        "            if not was_loaded:\n",
        "                print('notice: named parameter - {} is randomly initialized'.format(name))\n",
        "\n",
        "\n",
        "    def save_checkpoint(self, directory, title, epoch, loss,accuracy, optimizer=None,schedule=None):\n",
        "        # Create directory to save to\n",
        "        if not os.path.exists(directory):\n",
        "            os.makedirs(directory)\n",
        "\n",
        "        # Build checkpoint dict to save.\n",
        "        ckpt_dict = {\n",
        "            'model_state_dict':self.state_dict(),\n",
        "            'optimizer_state_dict':optimizer.state_dict() if optimizer is not None else None,\n",
        "            'epoch':epoch,\n",
        "            'loss_value':loss}\n",
        "        if accuracy is not None:\n",
        "            ckpt_dict['accuracy'] = accuracy\n",
        "        if schedule is not None:\n",
        "            ckpt_dict['schedule_state_dict'] = schedule.state_dict()\n",
        "            ckpt_dict['lr'] = schedule.get_last_lr()[0]\n",
        "        if hasattr(self,'loaded_model_weights_path'):\n",
        "            ckpt_dict['loaded_model_weights_path'] = self.loaded_model_weights_path\n",
        "\n",
        "        # Save the file with specific name\n",
        "        core_name = title\n",
        "        name = \"{}_last_epoch.pth\".format(core_name)\n",
        "        torch.save(ckpt_dict, os.path.join(directory, name))\n",
        "        if self.best_loss > loss:\n",
        "            self.best_loss = loss\n",
        "            name = \"{}_BEST_val_loss.pth\".format(core_name)\n",
        "            torch.save(ckpt_dict, os.path.join(directory, name))\n",
        "            print('updating best saved model...')\n",
        "        if accuracy is not None and self.best_accuracy < accuracy:\n",
        "            self.best_accuracy = accuracy\n",
        "            name = \"{}_BEST_val_accuracy.pth\".format(core_name)\n",
        "            torch.save(ckpt_dict, os.path.join(directory, name))\n",
        "            print('updating best saved model...')\n",
        "\n",
        "\n",
        "class Encoder(BaseModel):\n",
        "    def __init__(self,**kwargs):\n",
        "        super(Encoder, self).__init__()\n",
        "        self.register_vars(**kwargs)\n",
        "        self.down_block1 = nn.Sequential(OrderedDict([\n",
        "            ('conv0', nn.Conv3d(self.inChannels, self.model_depth, kernel_size=3, stride=1, padding=1)),\n",
        "            ('sp_drop0', nn.Dropout3d(self.dropout_rates['input'])),\n",
        "            ('green0', GreenBlock(self.model_depth, self.model_depth, self.dropout_rates['green'])),\n",
        "            ('downsize_0', nn.Conv3d(self.model_depth, self.model_depth * 2, kernel_size=3, stride=2, padding=1))]))\n",
        "        self.down_block2 = nn.Sequential(OrderedDict([\n",
        "            ('green10', GreenBlock(self.model_depth * 2, self.model_depth * 2, self.dropout_rates['green'])),\n",
        "            ('green11', GreenBlock(self.model_depth * 2, self.model_depth * 2, self.dropout_rates['green'])),\n",
        "            ('downsize_1', nn.Conv3d(self.model_depth * 2, self.model_depth * 4, kernel_size=3, stride=2, padding=1))]))\n",
        "        self.down_block3 = nn.Sequential(OrderedDict([\n",
        "            ('green20', GreenBlock(self.model_depth * 4, self.model_depth * 4, self.dropout_rates['green'])),\n",
        "            ('green21', GreenBlock(self.model_depth * 4, self.model_depth * 4, self.dropout_rates['green'])),\n",
        "            ('downsize_2', nn.Conv3d(self.model_depth * 4, self.model_depth * 8, kernel_size=3, stride=2, padding=1))]))\n",
        "        self.final_block = nn.Sequential(OrderedDict([\n",
        "            ('green30', GreenBlock(self.model_depth * 8, self.model_depth * 8, self.dropout_rates['green'])),\n",
        "            ('green31', GreenBlock(self.model_depth * 8, self.model_depth * 8, self.dropout_rates['green'])),\n",
        "            ('green32', GreenBlock(self.model_depth * 8, self.model_depth * 8, self.dropout_rates['green'])),\n",
        "            ('green33', GreenBlock(self.model_depth * 8, self.model_depth * 8, self.dropout_rates['green']))]))\n",
        "\n",
        "    def forward(self, x):\n",
        "        print('before')\n",
        "        x = self.down_block1(x)\n",
        "        print('after down_block1')\n",
        "        x = self.down_block2(x)\n",
        "        print('after down_block2')\n",
        "        x = self.down_block3(x)\n",
        "        print('after down_block3')\n",
        "        x = self.final_block(x)\n",
        "        print('after final block')\n",
        "        return x\n",
        "\n",
        "\n",
        "class BottleNeck_in(BaseModel):\n",
        "    def __init__(self,**kwargs):\n",
        "        super(BottleNeck_in, self).__init__()\n",
        "        self.register_vars(**kwargs)\n",
        "        self.reduce_dimension = nn.Sequential(OrderedDict([\n",
        "            ('group_normR', nn.GroupNorm(num_channels=self.model_depth * 8, num_groups=8)),\n",
        "            # ('norm0', nn.BatchNorm3d(model_depth * 8)),\n",
        "            ('reluR0', nn.LeakyReLU(inplace=True)),\n",
        "            ('convR0', nn.Conv3d(self.model_depth * 8, self.model_depth // 2, kernel_size=(3, 3, 3), stride=1, padding=1)),\n",
        "        ]))\n",
        "        flat_factor = tuple_prod(self.shapes['dim_3'])\n",
        "        self.flatten = nn.Flatten()\n",
        "        if (flat_factor * self.model_depth // 2) == self.intermediate_vec:\n",
        "            self.into_bert = nn.Identity()\n",
        "            print('flattened vec identical to intermediate vector...\\ndroppping fully conneceted bottleneck...')\n",
        "        else:\n",
        "            self.into_bert = nn.Linear(in_features=(self.model_depth // 2) * flat_factor, out_features=self.intermediate_vec)\n",
        "\n",
        "    def forward(self, inputs):\n",
        "        x = self.reduce_dimension(inputs)\n",
        "        x = self.flatten(x)\n",
        "        x = self.into_bert(x)\n",
        "\n",
        "        return x\n",
        "\n",
        "\n",
        "class BottleNeck_out(BaseModel):\n",
        "    def __init__(self,**kwargs):\n",
        "        super(BottleNeck_out, self).__init__()\n",
        "        self.register_vars(**kwargs)\n",
        "        flat_factor = tuple_prod(self.shapes['dim_3'])\n",
        "        minicube_shape = (self.model_depth // 2,) + self.shapes['dim_3']\n",
        "        self.out_of_bert = nn.Linear(in_features=self.intermediate_vec, out_features=(self.model_depth // 2) * flat_factor)\n",
        "        self.expand_dimension = nn.Sequential(OrderedDict([\n",
        "            ('unflatten', nn.Unflatten(1, minicube_shape)),\n",
        "            ('group_normR', nn.GroupNorm(num_channels=self.model_depth // 2, num_groups=2)),\n",
        "            # ('norm0', nn.BatchNorm3d(model_depth * 8)),\n",
        "            ('reluR0', nn.LeakyReLU(inplace=True)),\n",
        "            ('convR0', nn.Conv3d(self.model_depth // 2, self.model_depth * 8, kernel_size=(3, 3, 3), stride=1, padding=1)),\n",
        "        ]))\n",
        "\n",
        "    def forward(self, x):\n",
        "        x = self.out_of_bert(x)\n",
        "        return self.expand_dimension(x)\n",
        "\n",
        "class Decoder(BaseModel):\n",
        "    def __init__(self,**kwargs):\n",
        "        super(Decoder, self).__init__()\n",
        "        self.register_vars(**kwargs)\n",
        "        self.decode_block = nn.Sequential(OrderedDict([\n",
        "            ('upgreen0', UpGreenBlock(self.model_depth * 8, self.model_depth * 4, self.shapes['dim_2'], self.dropout_rates['Up_green'])),\n",
        "            ('upgreen1', UpGreenBlock(self.model_depth * 4, self.model_depth * 2, self.shapes['dim_1'], self.dropout_rates['Up_green'])),\n",
        "            ('upgreen2', UpGreenBlock(self.model_depth * 2, self.model_depth, self.shapes['dim_0'], self.dropout_rates['Up_green'])),\n",
        "            ('blue_block', nn.Conv3d(self.model_depth, self.model_depth, kernel_size=3, stride=1, padding=1)),\n",
        "            ('output_block', nn.Conv3d(in_channels=self.model_depth, out_channels=self.outChannels, kernel_size=1, stride=1))\n",
        "        ]))\n",
        "\n",
        "    def forward(self, x):\n",
        "        x = self.decode_block(x)\n",
        "        return x\n",
        "\n",
        "\n",
        "class AutoEncoder(BaseModel):\n",
        "    def __init__(self,dim,**kwargs):\n",
        "        super(AutoEncoder, self).__init__()\n",
        "        # ENCODING\n",
        "        self.task = 'autoencoder_reconstruction'\n",
        "        self.encoder = Encoder(**kwargs)\n",
        "        self.determine_shapes(self.encoder,dim)\n",
        "        kwargs['shapes'] = self.shapes\n",
        "        # BottleNeck into bert\n",
        "        self.into_bert = BottleNeck_in(**kwargs)\n",
        "\n",
        "        # BottleNeck out of bert\n",
        "        self.from_bert = BottleNeck_out(**kwargs)\n",
        "\n",
        "        # DECODER\n",
        "        self.decoder = Decoder(**kwargs)\n",
        "\n",
        "    def forward(self, x):\n",
        "        if x.isnan().any():\n",
        "            print('nans in data!')\n",
        "        batch_size, Channels_in, W, H, D, T = x.shape\n",
        "        x = x.permute(0, 5, 1, 2, 3, 4).reshape(batch_size * T, Channels_in, W, H, D)\n",
        "        encoded  = self.encoder(x)\n",
        "        encoded = self.into_bert(encoded)\n",
        "        encoded = self.from_bert(encoded)\n",
        "        reconstructed_image = self.decoder(encoded)\n",
        "        _, Channels_out, W, H, D = reconstructed_image.shape\n",
        "        reconstructed_image = reconstructed_image.reshape(batch_size, T, Channels_out, W, H, D).permute(0, 2, 3, 4, 5, 1)\n",
        "        return {'reconstructed_fmri_sequence': reconstructed_image}\n",
        "\n",
        "class Transformer_Block(BertPreTrainedModel, BaseModel):\n",
        "    def __init__(self,config,**kwargs):\n",
        "        super(Transformer_Block, self).__init__(config)\n",
        "        self.register_vars(**kwargs)\n",
        "        self.cls_pooling = True\n",
        "        self.bert = BertModel(self.BertConfig, add_pooling_layer=self.cls_pooling)\n",
        "        self.init_weights()\n",
        "        self.cls_embedding = nn.Sequential(nn.Linear(self.BertConfig.hidden_size, self.BertConfig.hidden_size), nn.LeakyReLU())\n",
        "        self.register_buffer('cls_id', torch.ones((kwargs.get('batch_size'), 1, self.BertConfig.hidden_size)) * 0.5,persistent=False)\n",
        "\n",
        "\n",
        "    def concatenate_cls(self, x):\n",
        "        cls_token = self.cls_embedding(self.cls_id)\n",
        "        return torch.cat([cls_token, x], dim=1)\n",
        "\n",
        "\n",
        "    def forward(self, x ):\n",
        "        inputs_embeds = self.concatenate_cls(x=x)\n",
        "        outputs = self.bert(input_ids=None,\n",
        "                            attention_mask=None,\n",
        "                            token_type_ids=None,\n",
        "                            position_ids=None,\n",
        "                            head_mask=None,\n",
        "                            inputs_embeds=inputs_embeds,\n",
        "                            encoder_hidden_states=None,\n",
        "                            encoder_attention_mask=None,\n",
        "                            output_attentions=None,\n",
        "                            output_hidden_states=None,\n",
        "                            return_dict=self.BertConfig.use_return_dict\n",
        "                            )\n",
        "\n",
        "        sequence_output = outputs[0][:, 1:, :]\n",
        "        pooled_cls = outputs[1]\n",
        "\n",
        "        return {'sequence': sequence_output, 'cls': pooled_cls}\n",
        "\n",
        "\n",
        "class Encoder_Transformer_Decoder(BaseModel):\n",
        "    def __init__(self, dim,**kwargs):\n",
        "        super(Encoder_Transformer_Decoder, self).__init__()\n",
        "        self.task = 'transformer_reconstruction'\n",
        "        self.register_vars(**kwargs)\n",
        "        # ENCODING\n",
        "        self.encoder = Encoder(**kwargs)\n",
        "        self.determine_shapes(self.encoder,dim)\n",
        "        kwargs['shapes'] = self.shapes\n",
        "        # BottleNeck into bert\n",
        "        self.into_bert = BottleNeck_in(**kwargs)\n",
        "\n",
        "        # transformer\n",
        "        self.transformer = Transformer_Block(self.BertConfig, **kwargs)\n",
        "\n",
        "        # BottleNeck out of bert\n",
        "        self.from_bert = BottleNeck_out(**kwargs)\n",
        "\n",
        "        # DECODER\n",
        "        self.decoder = Decoder(**kwargs)\n",
        "\n",
        "    def forward(self, x):\n",
        "        batch_size, inChannels, W, H, D, T = x.shape\n",
        "        x = x.permute(0, 5, 1, 2, 3, 4).reshape(batch_size * T, inChannels, W, H, D)\n",
        "        encoded = self.encoder(x)\n",
        "        encoded = self.into_bert(encoded)\n",
        "        encoded = encoded.reshape(batch_size, T, -1)\n",
        "        transformer_dict = self.transformer(encoded)\n",
        "        out = transformer_dict['sequence'].reshape(batch_size * T, -1)\n",
        "        out = self.from_bert(out)\n",
        "        reconstructed_image = self.decoder(out)\n",
        "        reconstructed_image = reconstructed_image.reshape(batch_size, T, self.outChannels, W, H, D).permute(0, 2, 3, 4, 5, 1)\n",
        "        return {'reconstructed_fmri_sequence': reconstructed_image}\n",
        "\n",
        "\n",
        "\n",
        "class Encoder_Transformer_finetune(BaseModel):\n",
        "    def __init__(self,dim,**kwargs):\n",
        "        super(Encoder_Transformer_finetune, self).__init__()\n",
        "        self.task = kwargs.get('fine_tune_task')\n",
        "        self.register_vars(**kwargs)\n",
        "        # ENCODING\n",
        "        self.encoder = Encoder(**kwargs)\n",
        "        self.determine_shapes(self.encoder, dim)\n",
        "        kwargs['shapes'] = self.shapes\n",
        "        # BottleNeck into bert\n",
        "        self.into_bert = BottleNeck_in(**kwargs)\n",
        "\n",
        "        # transformer\n",
        "        self.transformer = Transformer_Block(self.BertConfig,**kwargs)\n",
        "        # finetune classifier\n",
        "        if kwargs.get('fine_tune_task') == 'regression':\n",
        "            self.final_activation_func = nn.LeakyReLU()\n",
        "        elif kwargs.get('fine_tune_task') == 'binary_classification':\n",
        "            self.final_activation_func = nn.Sigmoid()\n",
        "            self.label_num = 1\n",
        "        self.regression_head = nn.Sequential(nn.Linear(self.BertConfig.hidden_size, self.label_num),self.final_activation_func)\n",
        "\n",
        "\n",
        "    def forward(self, x):\n",
        "        batch_size, inChannels, W, H, D, T = x.shape\n",
        "        x = x.permute(0, 5, 1, 2, 3, 4).reshape(batch_size * T, inChannels, W, H, D)\n",
        "        encoded = self.encoder(x)\n",
        "        encoded = self.into_bert(encoded)\n",
        "        encoded = encoded.reshape(batch_size, T, -1)\n",
        "        transformer_dict = self.transformer(encoded)\n",
        "        CLS = transformer_dict['cls']\n",
        "        prediction = self.regression_head(CLS)\n",
        "        return {self.task:prediction}"
      ],
      "metadata": {
        "id": "gBotg62uzGFf"
      },
      "execution_count": null,
      "outputs": []
    },
    {
      "cell_type": "code",
      "source": [
        "from google.colab import drive\n",
        "drive.mount('/content/drive')"
      ],
      "metadata": {
        "colab": {
          "base_uri": "https://localhost:8080/"
        },
        "id": "vCnZSov0x-ut",
        "outputId": "7163ac02-c4fa-4b09-f2aa-22e8afadb180"
      },
      "execution_count": null,
      "outputs": [
        {
          "output_type": "stream",
          "name": "stdout",
          "text": [
            "Drive already mounted at /content/drive; to attempt to forcibly remount, call drive.mount(\"/content/drive\", force_remount=True).\n"
          ]
        }
      ]
    },
    {
      "cell_type": "code",
      "source": [
        "!ls /content/drive/MyDrive/Colab\\ Notebooks/FMRI/"
      ],
      "metadata": {
        "colab": {
          "base_uri": "https://localhost:8080/"
        },
        "id": "n0KjdM2ryT4A",
        "outputId": "3930cb9e-859b-4b6d-d78f-3200f691a70a"
      },
      "execution_count": null,
      "outputs": [
        {
          "output_type": "stream",
          "name": "stdout",
          "text": [
            "FMRI_dataset_overview.ipynb\t\t\t      task.ipynb\n",
            "sub-01_ses-mri3t_anat_sub-01_ses-mri3t_run-1_T1w.nii\n"
          ]
        }
      ]
    },
    {
      "cell_type": "code",
      "source": [
        "from nibabel.testing import data_path\n",
        "import os\n",
        "import numpy as np"
      ],
      "metadata": {
        "id": "K4LFMxSy2RNF"
      },
      "execution_count": null,
      "outputs": []
    },
    {
      "cell_type": "code",
      "source": [
        "data_path = '/content/drive/MyDrive/Colab Notebooks/FMRI/'\n",
        "filename = os.path.join(data_path, 'sub-01_ses-mri3t_anat_sub-01_ses-mri3t_run-1_T1w.nii')\n",
        "filename"
      ],
      "metadata": {
        "colab": {
          "base_uri": "https://localhost:8080/",
          "height": 53
        },
        "id": "duu_q9_p2jz5",
        "outputId": "453c6f9c-f3a4-4666-e15d-930fcaef569c"
      },
      "execution_count": null,
      "outputs": [
        {
          "output_type": "execute_result",
          "data": {
            "text/plain": [
              "'/content/drive/MyDrive/Colab Notebooks/FMRI/sub-01_ses-mri3t_anat_sub-01_ses-mri3t_run-1_T1w.nii'"
            ],
            "application/vnd.google.colaboratory.intrinsic+json": {
              "type": "string"
            }
          },
          "metadata": {},
          "execution_count": 6
        }
      ]
    },
    {
      "cell_type": "code",
      "source": [
        "import nibabel as nib\n",
        "img = nib.load(filename)\n",
        "print(img.shape)\n",
        "print(img.get_data_dtype())\n",
        "print(img.affine.shape)"
      ],
      "metadata": {
        "colab": {
          "base_uri": "https://localhost:8080/"
        },
        "id": "QCqKj1OH20FB",
        "outputId": "24272747-a3ce-44a1-cd24-b52eca258620"
      },
      "execution_count": null,
      "outputs": [
        {
          "output_type": "stream",
          "name": "stdout",
          "text": [
            "(400, 400, 300)\n",
            "float32\n",
            "(4, 4)\n"
          ]
        }
      ]
    },
    {
      "cell_type": "code",
      "source": [
        "data = img.get_fdata()\n",
        "print(data.shape)\n",
        "print(type(data))\n",
        "hdr = img.header\n",
        "print(hdr.get_xyzt_units())\n",
        "raw = hdr.structarr\n",
        "print(raw['xyzt_units'])"
      ],
      "metadata": {
        "colab": {
          "base_uri": "https://localhost:8080/"
        },
        "id": "wdpIzEeX3wYL",
        "outputId": "54fdd66f-c9a6-435b-86ed-d1005fa105d4"
      },
      "execution_count": null,
      "outputs": [
        {
          "output_type": "stream",
          "name": "stdout",
          "text": [
            "(400, 400, 300)\n",
            "<class 'numpy.memmap'>\n",
            "('mm', 'sec')\n",
            "10\n"
          ]
        }
      ]
    },
    {
      "cell_type": "code",
      "source": [
        "data2 = torch.tensor(data, dtype=torch.double).unsqueeze(0).unsqueeze(0)\n",
        "\n",
        "data2 = data2[:, :, :, :, ::]\n",
        "print(data2.shape)\n",
        "data3 = torch.cat([data2, data2], dim=1)\n",
        "print(data3.shape)"
      ],
      "metadata": {
        "colab": {
          "base_uri": "https://localhost:8080/"
        },
        "id": "8SEMi4_kd88u",
        "outputId": "14c39d22-b0a0-4fa4-8ce9-1d2fbac5fca9"
      },
      "execution_count": null,
      "outputs": [
        {
          "output_type": "stream",
          "name": "stdout",
          "text": [
            "torch.Size([1, 1, 400, 400, 300])\n",
            "torch.Size([1, 2, 400, 400, 300])\n"
          ]
        }
      ]
    },
    {
      "cell_type": "code",
      "source": [
        "with torch.no_grad():\n",
        "    res = Encoder()(data3.float())"
      ],
      "metadata": {
        "colab": {
          "base_uri": "https://localhost:8080/"
        },
        "id": "Wlj6WjaLe220",
        "outputId": "48508580-190b-4d06-a9ca-3de2b266d9e0"
      },
      "execution_count": null,
      "outputs": [
        {
          "output_type": "stream",
          "name": "stdout",
          "text": [
            "before\n",
            "in green block: before\n",
            "in green block: after\n",
            "after down_block1\n",
            "in green block: before\n",
            "in green block: after\n",
            "in green block: before\n",
            "in green block: after\n",
            "after down_block2\n",
            "in green block: before\n",
            "in green block: after\n",
            "in green block: before\n",
            "in green block: after\n",
            "after down_block3\n",
            "in green block: before\n",
            "in green block: after\n",
            "in green block: before\n",
            "in green block: after\n",
            "in green block: before\n",
            "in green block: after\n",
            "in green block: before\n",
            "in green block: after\n",
            "after final block\n"
          ]
        }
      ]
    },
    {
      "cell_type": "code",
      "source": [
        "res.shape"
      ],
      "metadata": {
        "colab": {
          "base_uri": "https://localhost:8080/"
        },
        "id": "GpJtCt4Ff7rl",
        "outputId": "7b2dcdd8-d469-43f3-b120-66155ed48301"
      },
      "execution_count": null,
      "outputs": [
        {
          "output_type": "execute_result",
          "data": {
            "text/plain": [
              "torch.Size([1, 32, 50, 50, 38])"
            ]
          },
          "metadata": {},
          "execution_count": 46
        }
      ]
    },
    {
      "cell_type": "code",
      "source": [
        "import matplotlib.pyplot as plt\n",
        "plt.figure(figsize=(16, 9))\n",
        "plt.imshow(data[:, :, 100], cmap='gray', origin='lower')\n",
        "plt.xlabel('First axis')\n",
        "plt.ylabel('Second axis')\n",
        "plt.colorbar(label='Signal intensity')\n",
        "plt.show()"
      ],
      "metadata": {
        "colab": {
          "base_uri": "https://localhost:8080/",
          "height": 551
        },
        "id": "mJ-k7Cgp3ePb",
        "outputId": "57562efb-4d5a-47b8-d9fd-a08fa57c4d2e"
      },
      "execution_count": null,
      "outputs": [
        {
          "output_type": "display_data",
          "data": {
            "text/plain": [
              "<Figure size 1152x648 with 2 Axes>"
            ],
            "image/png": "[encoded data removed]"
          },
          "metadata": {
            "needs_background": "light"
          }
        }
      ]
    },
    {
      "cell_type": "markdown",
      "source": [
        "# SlowFast r101"
      ],
      "metadata": {
        "id": "kNIHRKNnmFDz"
      }
    },
    {
      "cell_type": "code",
      "source": [
        "!pip install fvcore\n"
      ],
      "metadata": {
        "colab": {
          "base_uri": "https://localhost:8080/"
        },
        "id": "LODKblcynj-J",
        "outputId": "a843bcb7-459d-4aec-dabf-d9ffddb31905"
      },
      "execution_count": null,
      "outputs": [
        {
          "output_type": "stream",
          "name": "stdout",
          "text": [
            "Looking in indexes: https://pypi.org/simple, https://us-python.pkg.dev/colab-wheels/public/simple/\n",
            "Collecting fvcore\n",
            "  Downloading fvcore-0.1.5.post20220512.tar.gz (50 kB)\n",
            "\u001b[K     |████████████████████████████████| 50 kB 3.1 MB/s \n",
            "\u001b[?25hRequirement already satisfied: numpy in /usr/local/lib/python3.7/dist-packages (from fvcore) (1.21.6)\n",
            "Collecting yacs>=0.1.6\n",
            "  Downloading yacs-0.1.8-py3-none-any.whl (14 kB)\n",
            "Requirement already satisfied: pyyaml>=5.1 in /usr/local/lib/python3.7/dist-packages (from fvcore) (6.0)\n",
            "Requirement already satisfied: tqdm in /usr/local/lib/python3.7/dist-packages (from fvcore) (4.64.1)\n",
            "Requirement already satisfied: termcolor>=1.1 in /usr/local/lib/python3.7/dist-packages (from fvcore) (2.0.1)\n",
            "Requirement already satisfied: Pillow in /usr/local/lib/python3.7/dist-packages (from fvcore) (7.1.2)\n",
            "Requirement already satisfied: tabulate in /usr/local/lib/python3.7/dist-packages (from fvcore) (0.8.10)\n",
            "Collecting iopath>=0.1.7\n",
            "  Downloading iopath-0.1.10.tar.gz (42 kB)\n",
            "\u001b[K     |████████████████████████████████| 42 kB 574 kB/s \n",
            "\u001b[?25hRequirement already satisfied: typing_extensions in /usr/local/lib/python3.7/dist-packages (from iopath>=0.1.7->fvcore) (4.1.1)\n",
            "Collecting portalocker\n",
            "  Downloading portalocker-2.6.0-py2.py3-none-any.whl (15 kB)\n",
            "Building wheels for collected packages: fvcore, iopath\n",
            "  Building wheel for fvcore (setup.py) ... \u001b[?25l\u001b[?25hdone\n",
            "  Created wheel for fvcore: filename=fvcore-0.1.5.post20220512-py3-none-any.whl size=61288 sha256=97aafa0b5b76481f7279bcb1d555ea20dd4c84a3775bb90fdbf9aa3f786de752\n",
            "  Stored in directory: /root/.cache/pip/wheels/68/20/f9/a11a0dd63f4c13678b2a5ec488e48078756505c7777b75b29e\n",
            "  Building wheel for iopath (setup.py) ... \u001b[?25l\u001b[?25hdone\n",
            "  Created wheel for iopath: filename=iopath-0.1.10-py3-none-any.whl size=31549 sha256=8057209ced6ee086cc34de3df27bd7baec6b68a2ceb30acb3b5a4ce2bd3f5e66\n",
            "  Stored in directory: /root/.cache/pip/wheels/aa/cc/ed/ca4e88beef656b01c84b9185196513ef2faf74a5a379b043a7\n",
            "Successfully built fvcore iopath\n",
            "Installing collected packages: portalocker, yacs, iopath, fvcore\n",
            "Successfully installed fvcore-0.1.5.post20220512 iopath-0.1.10 portalocker-2.6.0 yacs-0.1.8\n"
          ]
        }
      ]
    },
    {
      "cell_type": "code",
      "source": [
        "import torch\n",
        "import torch.fx\n",
        "import fvcore\n",
        "model = torch.hub.load('facebookresearch/pytorchvideo', 'slowfast_r101', pretrained=True)"
      ],
      "metadata": {
        "id": "OZIBMhnhmIFO"
      },
      "execution_count": null,
      "outputs": []
    },
    {
      "cell_type": "code",
      "source": [
        "from typing import Dict\n",
        "import json\n",
        "import urllib\n",
        "from torchvision.transforms import Compose, Lambda\n",
        "from torchvision.transforms._transforms_video import (\n",
        "    CenterCropVideo,\n",
        "    NormalizeVideo,\n",
        ")\n",
        "from pytorchvideo.data.encoded_video import EncodedVideo\n",
        "from pytorchvideo.transforms import (\n",
        "    ApplyTransformToKey,\n",
        "    ShortSideScale,\n",
        "    UniformTemporalSubsample,\n",
        "    UniformCropVideo\n",
        ") "
      ],
      "metadata": {
        "id": "8vYxei67nYwC"
      },
      "execution_count": null,
      "outputs": []
    },
    {
      "cell_type": "code",
      "source": [
        "torch.cuda.is_available()"
      ],
      "metadata": {
        "id": "B_4zgGd1nayw"
      },
      "execution_count": null,
      "outputs": []
    },
    {
      "cell_type": "code",
      "source": [
        "# Set to GPU or CPU\n",
        "device = \"cuda\"\n",
        "model = model.eval()\n",
        "model = model.to(device)"
      ],
      "metadata": {
        "colab": {
          "base_uri": "https://localhost:8080/",
          "height": 217
        },
        "id": "J1ZHSPCOncXT",
        "outputId": "407e108d-cdb3-4477-d404-3c11450be696"
      },
      "execution_count": null,
      "outputs": [
        {
          "output_type": "error",
          "ename": "NameError",
          "evalue": "ignored",
          "traceback": [
            "\u001b[0;31m---------------------------------------------------------------------------\u001b[0m",
            "\u001b[0;31mNameError\u001b[0m                                 Traceback (most recent call last)",
            "\u001b[0;32m<ipython-input-2-7d7669cf7422>\u001b[0m in \u001b[0;36m<module>\u001b[0;34m\u001b[0m\n\u001b[1;32m      1\u001b[0m \u001b[0;31m# Set to GPU or CPU\u001b[0m\u001b[0;34m\u001b[0m\u001b[0;34m\u001b[0m\u001b[0;34m\u001b[0m\u001b[0m\n\u001b[1;32m      2\u001b[0m \u001b[0mdevice\u001b[0m \u001b[0;34m=\u001b[0m \u001b[0;34m\"cuda\"\u001b[0m\u001b[0;34m\u001b[0m\u001b[0;34m\u001b[0m\u001b[0m\n\u001b[0;32m----> 3\u001b[0;31m \u001b[0mmodel\u001b[0m \u001b[0;34m=\u001b[0m \u001b[0mmodel\u001b[0m\u001b[0;34m.\u001b[0m\u001b[0meval\u001b[0m\u001b[0;34m(\u001b[0m\u001b[0;34m)\u001b[0m\u001b[0;34m\u001b[0m\u001b[0;34m\u001b[0m\u001b[0m\n\u001b[0m\u001b[1;32m      4\u001b[0m \u001b[0mmodel\u001b[0m \u001b[0;34m=\u001b[0m \u001b[0mmodel\u001b[0m\u001b[0;34m.\u001b[0m\u001b[0mto\u001b[0m\u001b[0;34m(\u001b[0m\u001b[0mdevice\u001b[0m\u001b[0;34m)\u001b[0m\u001b[0;34m\u001b[0m\u001b[0;34m\u001b[0m\u001b[0m\n",
            "\u001b[0;31mNameError\u001b[0m: name 'model' is not defined"
          ]
        }
      ]
    },
    {
      "cell_type": "code",
      "source": [
        "side_size = 256\n",
        "mean = [0.45, 0.45, 0.45]\n",
        "std = [0.225, 0.225, 0.225]\n",
        "crop_size = 256\n",
        "num_frames = 32\n",
        "sampling_rate = 2\n",
        "frames_per_second = 30\n",
        "slowfast_alpha = 4\n",
        "num_clips = 10\n",
        "num_crops = 3\n",
        "\n",
        "class PackPathway(torch.nn.Module):\n",
        "    \"\"\"\n",
        "    Transform for converting video frames as a list of tensors. \n",
        "    \"\"\"\n",
        "    def __init__(self):\n",
        "        super().__init__()\n",
        "        \n",
        "    def forward(self, frames: torch.Tensor):\n",
        "        fast_pathway = frames\n",
        "        # Perform temporal sampling from the fast pathway.\n",
        "        slow_pathway = torch.index_select(\n",
        "            frames,\n",
        "            1,\n",
        "            torch.linspace(\n",
        "                0, frames.shape[1] - 1, frames.shape[1] // slowfast_alpha\n",
        "            ).long(),\n",
        "        )\n",
        "        frame_list = [slow_pathway, fast_pathway]\n",
        "        return frame_list\n",
        "\n",
        "transform =  ApplyTransformToKey(\n",
        "    key=\"video\",\n",
        "    transform=Compose(\n",
        "        [\n",
        "            UniformTemporalSubsample(num_frames),\n",
        "            Lambda(lambda x: x/255.0),\n",
        "            NormalizeVideo(mean, std),\n",
        "            ShortSideScale(\n",
        "                size=side_size\n",
        "            ),\n",
        "            CenterCropVideo(crop_size),\n",
        "            PackPathway()\n",
        "        ]\n",
        "    ),\n",
        ")\n",
        "\n",
        "# The duration of the input clip is also specific to the model.\n",
        "clip_duration = (num_frames * sampling_rate)/frames_per_second"
      ],
      "metadata": {
        "colab": {
          "base_uri": "https://localhost:8080/",
          "height": 235
        },
        "id": "OZfsrD_9nh45",
        "outputId": "df3b217f-8dc1-47c0-ab7d-2b8d1cb9455c"
      },
      "execution_count": null,
      "outputs": [
        {
          "output_type": "error",
          "ename": "NameError",
          "evalue": "ignored",
          "traceback": [
            "\u001b[0;31m---------------------------------------------------------------------------\u001b[0m",
            "\u001b[0;31mNameError\u001b[0m                                 Traceback (most recent call last)",
            "\u001b[0;32m<ipython-input-4-1b4ba72ecc26>\u001b[0m in \u001b[0;36m<module>\u001b[0;34m\u001b[0m\n\u001b[1;32m     30\u001b[0m         \u001b[0;32mreturn\u001b[0m \u001b[0mframe_list\u001b[0m\u001b[0;34m\u001b[0m\u001b[0;34m\u001b[0m\u001b[0m\n\u001b[1;32m     31\u001b[0m \u001b[0;34m\u001b[0m\u001b[0m\n\u001b[0;32m---> 32\u001b[0;31m transform =  ApplyTransformToKey(\n\u001b[0m\u001b[1;32m     33\u001b[0m     \u001b[0mkey\u001b[0m\u001b[0;34m=\u001b[0m\u001b[0;34m\"video\"\u001b[0m\u001b[0;34m,\u001b[0m\u001b[0;34m\u001b[0m\u001b[0;34m\u001b[0m\u001b[0m\n\u001b[1;32m     34\u001b[0m     transform=Compose(\n",
            "\u001b[0;31mNameError\u001b[0m: name 'ApplyTransformToKey' is not defined"
          ]
        }
      ]
    },
    {
      "cell_type": "code",
      "source": [
        "url_link = \"https://www.youtube.com/watch?v=KfXFWq0C_4o\"\n",
        "video_path = 'pippi_on_the_run.mp4'\n",
        "try: urllib.URLopener().retrieve(url_link, video_path)\n",
        "except: urllib.request.urlretrieve(url_link, video_path)"
      ],
      "metadata": {
        "colab": {
          "base_uri": "https://localhost:8080/",
          "height": 373
        },
        "id": "MF6TM5oUn1PH",
        "outputId": "bc75564c-d4ff-45f3-bf60-2fe68429b168"
      },
      "execution_count": null,
      "outputs": [
        {
          "output_type": "error",
          "ename": "NameError",
          "evalue": "ignored",
          "traceback": [
            "\u001b[0;31m---------------------------------------------------------------------------\u001b[0m",
            "\u001b[0;31mNameError\u001b[0m                                 Traceback (most recent call last)",
            "\u001b[0;32m<ipython-input-5-ecf0da8e5b47>\u001b[0m in \u001b[0;36m<module>\u001b[0;34m\u001b[0m\n\u001b[1;32m      2\u001b[0m \u001b[0mvideo_path\u001b[0m \u001b[0;34m=\u001b[0m \u001b[0;34m'pippi_on_the_run.mp4'\u001b[0m\u001b[0;34m\u001b[0m\u001b[0;34m\u001b[0m\u001b[0m\n\u001b[0;32m----> 3\u001b[0;31m \u001b[0;32mtry\u001b[0m\u001b[0;34m:\u001b[0m \u001b[0murllib\u001b[0m\u001b[0;34m.\u001b[0m\u001b[0mURLopener\u001b[0m\u001b[0;34m(\u001b[0m\u001b[0;34m)\u001b[0m\u001b[0;34m.\u001b[0m\u001b[0mretrieve\u001b[0m\u001b[0;34m(\u001b[0m\u001b[0murl_link\u001b[0m\u001b[0;34m,\u001b[0m \u001b[0mvideo_path\u001b[0m\u001b[0;34m)\u001b[0m\u001b[0;34m\u001b[0m\u001b[0;34m\u001b[0m\u001b[0m\n\u001b[0m\u001b[1;32m      4\u001b[0m \u001b[0;32mexcept\u001b[0m\u001b[0;34m:\u001b[0m \u001b[0murllib\u001b[0m\u001b[0;34m.\u001b[0m\u001b[0mrequest\u001b[0m\u001b[0;34m.\u001b[0m\u001b[0murlretrieve\u001b[0m\u001b[0;34m(\u001b[0m\u001b[0murl_link\u001b[0m\u001b[0;34m,\u001b[0m \u001b[0mvideo_path\u001b[0m\u001b[0;34m)\u001b[0m\u001b[0;34m\u001b[0m\u001b[0;34m\u001b[0m\u001b[0m\n",
            "\u001b[0;31mNameError\u001b[0m: name 'urllib' is not defined",
            "\nDuring handling of the above exception, another exception occurred:\n",
            "\u001b[0;31mNameError\u001b[0m                                 Traceback (most recent call last)",
            "\u001b[0;32m<ipython-input-5-ecf0da8e5b47>\u001b[0m in \u001b[0;36m<module>\u001b[0;34m\u001b[0m\n\u001b[1;32m      2\u001b[0m \u001b[0mvideo_path\u001b[0m \u001b[0;34m=\u001b[0m \u001b[0;34m'pippi_on_the_run.mp4'\u001b[0m\u001b[0;34m\u001b[0m\u001b[0;34m\u001b[0m\u001b[0m\n\u001b[1;32m      3\u001b[0m \u001b[0;32mtry\u001b[0m\u001b[0;34m:\u001b[0m \u001b[0murllib\u001b[0m\u001b[0;34m.\u001b[0m\u001b[0mURLopener\u001b[0m\u001b[0;34m(\u001b[0m\u001b[0;34m)\u001b[0m\u001b[0;34m.\u001b[0m\u001b[0mretrieve\u001b[0m\u001b[0;34m(\u001b[0m\u001b[0murl_link\u001b[0m\u001b[0;34m,\u001b[0m \u001b[0mvideo_path\u001b[0m\u001b[0;34m)\u001b[0m\u001b[0;34m\u001b[0m\u001b[0;34m\u001b[0m\u001b[0m\n\u001b[0;32m----> 4\u001b[0;31m \u001b[0;32mexcept\u001b[0m\u001b[0;34m:\u001b[0m \u001b[0murllib\u001b[0m\u001b[0;34m.\u001b[0m\u001b[0mrequest\u001b[0m\u001b[0;34m.\u001b[0m\u001b[0murlretrieve\u001b[0m\u001b[0;34m(\u001b[0m\u001b[0murl_link\u001b[0m\u001b[0;34m,\u001b[0m \u001b[0mvideo_path\u001b[0m\u001b[0;34m)\u001b[0m\u001b[0;34m\u001b[0m\u001b[0;34m\u001b[0m\u001b[0m\n\u001b[0m",
            "\u001b[0;31mNameError\u001b[0m: name 'urllib' is not defined"
          ]
        }
      ]
    },
    {
      "cell_type": "code",
      "source": [
        "# Select the duration of the clip to load by specifying the start and end duration\n",
        "# The start_sec should correspond to where the action occurs in the video\n",
        "start_sec = 0\n",
        "end_sec = start_sec + clip_duration\n",
        "\n",
        "# Initialize an EncodedVideo helper class and load the video\n",
        "video = EncodedVideo.from_path(video_path)\n",
        "\n",
        "# Load the desired clip\n",
        "video_data = video.get_clip(start_sec=start_sec, end_sec=end_sec)\n",
        "\n",
        "# Apply a transform to normalize the video input\n",
        "video_data = transform(video_data)\n",
        "\n",
        "# Move the inputs to the desired device\n",
        "inputs = video_data[\"video\"]\n",
        "inputs = [i.to(device)[None, ...] for i in inputs]"
      ],
      "metadata": {
        "colab": {
          "base_uri": "https://localhost:8080/",
          "height": 235
        },
        "id": "VPZmWu-2oLXU",
        "outputId": "903231b8-4aae-49b8-d717-5a7cdc9f1711"
      },
      "execution_count": null,
      "outputs": [
        {
          "output_type": "error",
          "ename": "NameError",
          "evalue": "ignored",
          "traceback": [
            "\u001b[0;31m---------------------------------------------------------------------------\u001b[0m",
            "\u001b[0;31mNameError\u001b[0m                                 Traceback (most recent call last)",
            "\u001b[0;32m<ipython-input-6-a8bc21f3fd6b>\u001b[0m in \u001b[0;36m<module>\u001b[0;34m\u001b[0m\n\u001b[1;32m      2\u001b[0m \u001b[0;31m# The start_sec should correspond to where the action occurs in the video\u001b[0m\u001b[0;34m\u001b[0m\u001b[0;34m\u001b[0m\u001b[0;34m\u001b[0m\u001b[0m\n\u001b[1;32m      3\u001b[0m \u001b[0mstart_sec\u001b[0m \u001b[0;34m=\u001b[0m \u001b[0;36m0\u001b[0m\u001b[0;34m\u001b[0m\u001b[0;34m\u001b[0m\u001b[0m\n\u001b[0;32m----> 4\u001b[0;31m \u001b[0mend_sec\u001b[0m \u001b[0;34m=\u001b[0m \u001b[0mstart_sec\u001b[0m \u001b[0;34m+\u001b[0m \u001b[0mclip_duration\u001b[0m\u001b[0;34m\u001b[0m\u001b[0;34m\u001b[0m\u001b[0m\n\u001b[0m\u001b[1;32m      5\u001b[0m \u001b[0;34m\u001b[0m\u001b[0m\n\u001b[1;32m      6\u001b[0m \u001b[0;31m# Initialize an EncodedVideo helper class and load the video\u001b[0m\u001b[0;34m\u001b[0m\u001b[0;34m\u001b[0m\u001b[0;34m\u001b[0m\u001b[0m\n",
            "\u001b[0;31mNameError\u001b[0m: name 'clip_duration' is not defined"
          ]
        }
      ]
    },
    {
      "cell_type": "code",
      "source": [
        "preds = model(inputs)\n",
        "print(preds)"
      ],
      "metadata": {
        "id": "vn2D5f8QoNaf"
      },
      "execution_count": null,
      "outputs": []
    },
    {
      "cell_type": "markdown",
      "source": [
        "## VTN"
      ],
      "metadata": {
        "id": "hWvsyL5a_jzG"
      }
    },
    {
      "cell_type": "code",
      "source": [
        "!pip install simplejson\n",
        "!pip install iopath\n",
        "!pip install fvcore\n",
        "!pip install timm\n",
        "!pip install transformers"
      ],
      "metadata": {
        "id": "I72wt231_k1Q"
      },
      "execution_count": null,
      "outputs": []
    },
    {
      "cell_type": "code",
      "source": [
        "import torch\n",
        "from transformers import LongformerModel, LongformerConfig\n",
        "import torch.nn.functional as F\n",
        "\n",
        "\n",
        "class VTNLongformerModel(LongformerModel):\n",
        "\n",
        "    def __init__(self,\n",
        "                 embed_dim=768,\n",
        "                 max_position_embeddings=2 * 60 * 60,\n",
        "                 num_attention_heads=12,\n",
        "                 num_hidden_layers=3,\n",
        "                 attention_mode='sliding_chunks',\n",
        "                 pad_token_id=-1,\n",
        "                 attention_window=None,\n",
        "                 intermediate_size=3072,\n",
        "                 attention_probs_dropout_prob=0.1,\n",
        "                 hidden_dropout_prob=0.1):\n",
        "\n",
        "        self.config = LongformerConfig()\n",
        "        self.config.attention_mode = attention_mode\n",
        "        self.config.intermediate_size = intermediate_size\n",
        "        self.config.attention_probs_dropout_prob = attention_probs_dropout_prob\n",
        "        self.config.hidden_dropout_prob = hidden_dropout_prob\n",
        "        self.config.attention_dilation = [1, ] * num_hidden_layers\n",
        "        self.config.attention_window = [256, ] * num_hidden_layers if attention_window is None else attention_window\n",
        "        self.config.num_hidden_layers = num_hidden_layers\n",
        "        self.config.num_attention_heads = num_attention_heads\n",
        "        self.config.pad_token_id = pad_token_id\n",
        "        self.config.max_position_embeddings = max_position_embeddings\n",
        "        self.config.hidden_size = embed_dim\n",
        "        super(VTNLongformerModel, self).__init__(self.config, add_pooling_layer=False)\n",
        "        self.embeddings.word_embeddings = None  # to avoid distributed error of unused parameters\n",
        "\n",
        "\n",
        "def pad_to_window_size_local(input_ids: torch.Tensor, attention_mask: torch.Tensor, position_ids: torch.Tensor,\n",
        "                             one_sided_window_size: int, pad_token_id: int):\n",
        "    '''A helper function to pad tokens and mask to work with the sliding_chunks implementation of Longformer self-attention.\n",
        "    Based on _pad_to_window_size from https://github.com/huggingface/transformers:\n",
        "    https://github.com/huggingface/transformers/blob/71bdc076dd4ba2f3264283d4bc8617755206dccd/src/transformers/models/longformer/modeling_longformer.py#L1516\n",
        "    Input:\n",
        "        input_ids = torch.Tensor(bsz x seqlen): ids of wordpieces\n",
        "        attention_mask = torch.Tensor(bsz x seqlen): attention mask\n",
        "        one_sided_window_size = int: window size on one side of each token\n",
        "        pad_token_id = int: tokenizer.pad_token_id\n",
        "    Returns\n",
        "        (input_ids, attention_mask) padded to length divisible by 2 * one_sided_window_size\n",
        "    '''\n",
        "    w = 2 * one_sided_window_size\n",
        "    seqlen = input_ids.size(1)\n",
        "    padding_len = (w - seqlen % w) % w\n",
        "    input_ids = F.pad(input_ids.permute(0, 2, 1), (0, padding_len), value=pad_token_id).permute(0, 2, 1)\n",
        "    attention_mask = F.pad(attention_mask, (0, padding_len), value=False)  # no attention on the padding tokens\n",
        "    position_ids = F.pad(position_ids, (1, padding_len), value=False)  # no attention on the padding tokens\n",
        "    return input_ids, attention_mask, position_ids\n"
      ],
      "metadata": {
        "id": "L0u8Ctim_reT"
      },
      "execution_count": null,
      "outputs": []
    },
    {
      "cell_type": "code",
      "source": [
        "from fvcore.common.registry import Registry\n",
        "\n",
        "MODEL_REGISTRY = Registry(\"MODEL\")\n",
        "MODEL_REGISTRY.__doc__ = \"\"\"\n",
        "Registry for video model.\n",
        "\n",
        "The registered object will be called with `obj(cfg)`.\n",
        "The call should return a `torch.nn.Module` object.\n",
        "\"\"\"\n",
        "\n",
        "\n",
        "def build_model(cfg, gpu_id=None):\n",
        "    \"\"\"\n",
        "    Builds the video model.\n",
        "    Args:\n",
        "        cfg (configs): configs that contains the hyper-parameters to build the\n",
        "        backbone. Details can be seen in slowfast/config/defaults.py.\n",
        "        gpu_id (Optional[int]): specify the gpu index to build model.\n",
        "    \"\"\"\n",
        "    if torch.cuda.is_available():\n",
        "        assert (\n",
        "            cfg.NUM_GPUS <= torch.cuda.device_count()\n",
        "        ), \"Cannot use more GPU devices than available\"\n",
        "    else:\n",
        "        assert (\n",
        "            cfg.NUM_GPUS == 0\n",
        "        ), \"Cuda is not available. Please set `NUM_GPUS: 0 for running on CPUs.\"\n",
        "\n",
        "    # Construct the model\n",
        "    name = cfg.MODEL.MODEL_NAME\n",
        "    model = MODEL_REGISTRY.get(name)(cfg)\n",
        "\n",
        "    if cfg.NUM_GPUS:\n",
        "        if gpu_id is None:\n",
        "            # Determine the GPU used by the current process\n",
        "            cur_device = torch.cuda.current_device()\n",
        "        else:\n",
        "            cur_device = gpu_id\n",
        "        # Transfer the model to the current GPU device\n",
        "        model = model.cuda(device=cur_device)\n",
        "    # Use multi-process data parallel model in the multi-gpu setting\n",
        "    if cfg.NUM_GPUS > 1:\n",
        "        # Make model replica operate on the current device\n",
        "        model = torch.nn.parallel.DistributedDataParallel(\n",
        "            module=model, device_ids=[cur_device], output_device=cur_device\n",
        "        )\n",
        "    return model"
      ],
      "metadata": {
        "id": "8du0jVbX_uRi"
      },
      "execution_count": null,
      "outputs": []
    },
    {
      "cell_type": "code",
      "source": [
        "#!/usr/bin/env python3\n",
        "# Copyright (c) Facebook, Inc. and its affiliates. All Rights Reserved.\n",
        "\n",
        "\"\"\"Video models.\"\"\"\n",
        "\n",
        "import math\n",
        "import torch\n",
        "import torch.nn as nn\n",
        "from timm.models.vision_transformer import vit_base_patch16_224\n",
        "\n",
        "@MODEL_REGISTRY.register()\n",
        "class VTN(nn.Module):\n",
        "    \"\"\"\n",
        "    VTN model builder. It uses ViT-Base as the backbone.\n",
        "\n",
        "    Daniel Neimark, Omri Bar, Maya Zohar and Dotan Asselmann.\n",
        "    \"Video Transformer Network.\"\n",
        "    https://arxiv.org/abs/2102.00719\n",
        "    \"\"\"\n",
        "\n",
        "    def __init__(self, cfg):\n",
        "        \"\"\"\n",
        "        The `__init__` method of any subclass should also contain these\n",
        "            arguments.\n",
        "        Args:\n",
        "            cfg (CfgNode): model building configs, details are in the\n",
        "                comments of the config file.\n",
        "        \"\"\"\n",
        "        super(VTN, self).__init__()\n",
        "        self._construct_network(cfg)\n",
        "\n",
        "    def _construct_network(self, cfg):\n",
        "        \"\"\"\n",
        "        Builds a VTN model, with a given backbone architecture.\n",
        "        Args:\n",
        "            cfg (CfgNode): model building configs, details are in the\n",
        "                comments of the config file.\n",
        "        \"\"\"\n",
        "        if cfg.MODEL.ARCH == \"VIT\":\n",
        "            self.backbone = vit_base_patch16_224(pretrained=cfg.VTN.PRETRAINED,\n",
        "                                                 num_classes=0,\n",
        "                                                 drop_path_rate=cfg.VTN.DROP_PATH_RATE,\n",
        "                                                 drop_rate=cfg.VTN.DROP_RATE)\n",
        "        else:\n",
        "            raise NotImplementedError(f\"not supporting {cfg.MODEL.ARCH}\")\n",
        "\n",
        "        embed_dim = self.backbone.embed_dim\n",
        "        self.cls_token = nn.Parameter(torch.randn(1, 1, embed_dim))\n",
        "\n",
        "        self.temporal_encoder = VTNLongformerModel(\n",
        "            embed_dim=embed_dim,\n",
        "            max_position_embeddings=cfg.VTN.MAX_POSITION_EMBEDDINGS,\n",
        "            num_attention_heads=cfg.VTN.NUM_ATTENTION_HEADS,\n",
        "            num_hidden_layers=cfg.VTN.NUM_HIDDEN_LAYERS,\n",
        "            attention_mode=cfg.VTN.ATTENTION_MODE,\n",
        "            pad_token_id=cfg.VTN.PAD_TOKEN_ID,\n",
        "            attention_window=cfg.VTN.ATTENTION_WINDOW,\n",
        "            intermediate_size=cfg.VTN.INTERMEDIATE_SIZE,\n",
        "            attention_probs_dropout_prob=cfg.VTN.ATTENTION_PROBS_DROPOUT_PROB,\n",
        "            hidden_dropout_prob=cfg.VTN.HIDDEN_DROPOUT_PROB)\n",
        "\n",
        "        self.mlp_head = nn.Sequential(\n",
        "            nn.LayerNorm(cfg.VTN.HIDDEN_DIM),\n",
        "            nn.Linear(cfg.VTN.HIDDEN_DIM, cfg.VTN.MLP_DIM),\n",
        "            nn.GELU(),\n",
        "            nn.Dropout(cfg.MODEL.DROPOUT_RATE),\n",
        "            nn.Linear(cfg.VTN.MLP_DIM, cfg.MODEL.NUM_CLASSES)\n",
        "        )\n",
        "\n",
        "    def forward(self, x, bboxes=None):\n",
        "\n",
        "        x, position_ids = x\n",
        "\n",
        "        # spatial backbone\n",
        "        B, F, C, H, W = x.shape\n",
        "        x = x.reshape(B * F, C, H, W)\n",
        "        x = self.backbone(x)\n",
        "        x = x.reshape(B, F, -1)\n",
        "\n",
        "        # temporal encoder (Longformer)\n",
        "        B, D, E = x.shape\n",
        "        attention_mask = torch.ones((B, D), dtype=torch.long, device=x.device)\n",
        "        cls_tokens = self.cls_token.expand(B, -1, -1)  # stole cls_tokens impl from Phil Wang, thanks\n",
        "        x = torch.cat((cls_tokens, x), dim=1)\n",
        "        cls_atten = torch.ones(1).expand(B, -1).to(x.device)\n",
        "        attention_mask = torch.cat((attention_mask, cls_atten), dim=1)\n",
        "        attention_mask[:, 0] = 2\n",
        "        x, attention_mask, position_ids = pad_to_window_size_local(\n",
        "            x,\n",
        "            attention_mask,\n",
        "            position_ids,\n",
        "            self.temporal_encoder.config.attention_window[0],\n",
        "            self.temporal_encoder.config.pad_token_id)\n",
        "        token_type_ids = torch.zeros(x.size()[:-1], dtype=torch.long, device=x.device)\n",
        "        token_type_ids[:, 0] = 1\n",
        "\n",
        "        # position_ids\n",
        "        position_ids = position_ids.long()\n",
        "        mask = attention_mask.ne(0).int()\n",
        "        max_position_embeddings = self.temporal_encoder.config.max_position_embeddings\n",
        "        position_ids = position_ids % (max_position_embeddings - 2)\n",
        "        position_ids[:, 0] = max_position_embeddings - 2\n",
        "        position_ids[mask == 0] = max_position_embeddings - 1\n",
        "\n",
        "        x = self.temporal_encoder(input_ids=None,\n",
        "                                  attention_mask=attention_mask,\n",
        "                                  token_type_ids=token_type_ids,\n",
        "                                  position_ids=position_ids,\n",
        "                                  inputs_embeds=x,\n",
        "                                  output_attentions=None,\n",
        "                                  output_hidden_states=None,\n",
        "                                  return_dict=None)\n",
        "        # MLP head\n",
        "        x = x[\"last_hidden_state\"]\n",
        "        x = self.mlp_head(x)\n",
        "        return x\n"
      ],
      "metadata": {
        "id": "KXlnSOOX_wVS"
      },
      "execution_count": null,
      "outputs": []
    },
    {
      "cell_type": "code",
      "source": [
        "!unzip config.zip #SlowFast/slowfast/config"
      ],
      "metadata": {
        "id": "uJanboX0_yjP"
      },
      "execution_count": null,
      "outputs": []
    },
    {
      "cell_type": "code",
      "source": [
        "from config.defaults import get_cfg"
      ],
      "metadata": {
        "id": "dmqPo1CN_33s"
      },
      "execution_count": null,
      "outputs": []
    },
    {
      "cell_type": "code",
      "source": [
        "cfg = get_cfg()\n",
        "cfg.merge_from_file(\"VIT_B_VTN.yaml\") #SlowFast/configs/Kinetics/VIT_B_VTN.yaml\n",
        "model = build_model(cfg)"
      ],
      "metadata": {
        "id": "-G1-MbEb_6TD"
      },
      "execution_count": null,
      "outputs": []
    },
    {
      "cell_type": "code",
      "source": [
        "!wget https://researchpublic.blob.core.windows.net/vtn/VTN_VIT_B_KINETICS.pyth"
      ],
      "metadata": {
        "id": "na-KF6BEAAT9"
      },
      "execution_count": null,
      "outputs": []
    },
    {
      "cell_type": "code",
      "source": [
        "state_dict = torch.load('VTN_VIT_B_KINETICS.pyth')['model_state']\n",
        "state_dict.pop('temporal_encoder.embeddings.position_ids')\n",
        "model.load_state_dict(state_dict)"
      ],
      "metadata": {
        "id": "uBLr5tTMACO2"
      },
      "execution_count": null,
      "outputs": []
    },
    {
      "cell_type": "code",
      "source": [
        "video_batch = video.unsqueeze(0)\n",
        "position_idx_batch = position_idx.unsqueeze(0)"
      ],
      "metadata": {
        "id": "Vo-OMBtwAjVu"
      },
      "execution_count": null,
      "outputs": []
    },
    {
      "cell_type": "code",
      "source": [
        "output = model((video_batch, position_idx_batch))"
      ],
      "metadata": {
        "id": "4KwBiTSaAlvB"
      },
      "execution_count": null,
      "outputs": []
    },
    {
      "cell_type": "code",
      "source": [
        "output.shape"
      ],
      "metadata": {
        "id": "DdBnUv_FAn8j"
      },
      "execution_count": null,
      "outputs": []
    },
    {
      "cell_type": "code",
      "source": [
        "import matplotlib.pyplot as plt\n",
        "for i in range(1, 17):\n",
        "  plt.plot(torch.softmax(output[0, i], 0).detach().numpy(), alpha=0.2)"
      ],
      "metadata": {
        "id": "KojUdV4aAp6f"
      },
      "execution_count": null,
      "outputs": []
    },
    {
      "cell_type": "code",
      "source": [
        "torch.argmax(output[0, 0]) #https://gist.github.com/willprice/f19da185c9c5f32847134b87c1960769"
      ],
      "metadata": {
        "id": "738uAKloAye8"
      },
      "execution_count": null,
      "outputs": []
    },
    {
      "cell_type": "code",
      "source": [
        "plt.imshow(video[0].permute(1, 2, 0).detach().numpy())"
      ],
      "metadata": {
        "id": "9nBQTryqAtcl"
      },
      "execution_count": null,
      "outputs": []
    }
  ]
}